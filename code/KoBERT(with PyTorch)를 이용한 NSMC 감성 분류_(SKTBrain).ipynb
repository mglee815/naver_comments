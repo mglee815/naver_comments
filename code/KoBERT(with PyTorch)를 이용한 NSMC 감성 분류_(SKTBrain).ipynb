{
  "cells": [
    {
      "cell_type": "code",
      "execution_count": 1,
      "metadata": {
        "id": "YTP92Q9Gd3ie"
      },
      "outputs": [
        {
          "name": "stdout",
          "output_type": "stream",
          "text": [
            "\u001b[33mWARNING: Ignoring invalid distribution -weepy (/home/mglee/anaconda3/envs/save/lib/python3.8/site-packages)\u001b[0m\n",
            "\u001b[33mWARNING: Ignoring invalid distribution -weepy (/home/mglee/anaconda3/envs/save/lib/python3.8/site-packages)\u001b[0m\n",
            "Requirement already satisfied: mxnet in /home/mglee/anaconda3/envs/save/lib/python3.8/site-packages (1.7.0.post2)\n",
            "Requirement already satisfied: graphviz<0.9.0,>=0.8.1 in /home/mglee/anaconda3/envs/save/lib/python3.8/site-packages (from mxnet) (0.8.4)\n",
            "Requirement already satisfied: requests<3,>=2.20.0 in /home/mglee/anaconda3/envs/save/lib/python3.8/site-packages (from mxnet) (2.27.1)\n",
            "Requirement already satisfied: numpy<2.0.0,>1.16.0 in /home/mglee/anaconda3/envs/save/lib/python3.8/site-packages (from mxnet) (1.20.3)\n",
            "Requirement already satisfied: certifi>=2017.4.17 in /home/mglee/anaconda3/envs/save/lib/python3.8/site-packages (from requests<3,>=2.20.0->mxnet) (2021.10.8)\n",
            "Requirement already satisfied: urllib3<1.27,>=1.21.1 in /home/mglee/anaconda3/envs/save/lib/python3.8/site-packages (from requests<3,>=2.20.0->mxnet) (1.25.11)\n",
            "Requirement already satisfied: idna<4,>=2.5 in /home/mglee/anaconda3/envs/save/lib/python3.8/site-packages (from requests<3,>=2.20.0->mxnet) (3.3)\n",
            "Requirement already satisfied: charset-normalizer~=2.0.0 in /home/mglee/anaconda3/envs/save/lib/python3.8/site-packages (from requests<3,>=2.20.0->mxnet) (2.0.4)\n",
            "\u001b[33mWARNING: Ignoring invalid distribution -weepy (/home/mglee/anaconda3/envs/save/lib/python3.8/site-packages)\u001b[0m\n",
            "\u001b[33mWARNING: Ignoring invalid distribution -weepy (/home/mglee/anaconda3/envs/save/lib/python3.8/site-packages)\u001b[0m\n",
            "\u001b[33mWARNING: Ignoring invalid distribution -weepy (/home/mglee/anaconda3/envs/save/lib/python3.8/site-packages)\u001b[0m\n",
            "\u001b[33mWARNING: Ignoring invalid distribution -weepy (/home/mglee/anaconda3/envs/save/lib/python3.8/site-packages)\u001b[0m\n",
            "\u001b[33mWARNING: Ignoring invalid distribution -weepy (/home/mglee/anaconda3/envs/save/lib/python3.8/site-packages)\u001b[0m\n",
            "\u001b[33mWARNING: Ignoring invalid distribution -weepy (/home/mglee/anaconda3/envs/save/lib/python3.8/site-packages)\u001b[0m\n",
            "Requirement already satisfied: gluonnlp in /home/mglee/anaconda3/envs/save/lib/python3.8/site-packages (0.10.0)\n",
            "Requirement already satisfied: pandas in /home/mglee/anaconda3/envs/save/lib/python3.8/site-packages (1.4.1)\n",
            "Requirement already satisfied: tqdm in /home/mglee/anaconda3/envs/save/lib/python3.8/site-packages (4.62.3)\n",
            "Requirement already satisfied: cython in /home/mglee/anaconda3/envs/save/lib/python3.8/site-packages (from gluonnlp) (0.29.25)\n",
            "Requirement already satisfied: numpy>=1.16.0 in /home/mglee/anaconda3/envs/save/lib/python3.8/site-packages (from gluonnlp) (1.20.3)\n",
            "Requirement already satisfied: packaging in /home/mglee/anaconda3/envs/save/lib/python3.8/site-packages (from gluonnlp) (21.3)\n",
            "Requirement already satisfied: python-dateutil>=2.8.1 in /home/mglee/anaconda3/envs/save/lib/python3.8/site-packages (from pandas) (2.8.2)\n",
            "Requirement already satisfied: pytz>=2020.1 in /home/mglee/anaconda3/envs/save/lib/python3.8/site-packages (from pandas) (2021.3)\n",
            "Requirement already satisfied: six>=1.5 in /home/mglee/anaconda3/envs/save/lib/python3.8/site-packages (from python-dateutil>=2.8.1->pandas) (1.16.0)\n",
            "Requirement already satisfied: pyparsing!=3.0.5,>=2.0.2 in /home/mglee/anaconda3/envs/save/lib/python3.8/site-packages (from packaging->gluonnlp) (3.0.4)\n",
            "\u001b[33mWARNING: Ignoring invalid distribution -weepy (/home/mglee/anaconda3/envs/save/lib/python3.8/site-packages)\u001b[0m\n",
            "\u001b[33mWARNING: Ignoring invalid distribution -weepy (/home/mglee/anaconda3/envs/save/lib/python3.8/site-packages)\u001b[0m\n",
            "\u001b[33mWARNING: Ignoring invalid distribution -weepy (/home/mglee/anaconda3/envs/save/lib/python3.8/site-packages)\u001b[0m\n",
            "\u001b[33mWARNING: Ignoring invalid distribution -weepy (/home/mglee/anaconda3/envs/save/lib/python3.8/site-packages)\u001b[0m\n",
            "\u001b[33mWARNING: Ignoring invalid distribution -weepy (/home/mglee/anaconda3/envs/save/lib/python3.8/site-packages)\u001b[0m\n",
            "\u001b[33mWARNING: Ignoring invalid distribution -weepy (/home/mglee/anaconda3/envs/save/lib/python3.8/site-packages)\u001b[0m\n",
            "Requirement already satisfied: sentencepiece in /home/mglee/anaconda3/envs/save/lib/python3.8/site-packages (0.1.96)\n",
            "\u001b[33mWARNING: Ignoring invalid distribution -weepy (/home/mglee/anaconda3/envs/save/lib/python3.8/site-packages)\u001b[0m\n",
            "\u001b[33mWARNING: Ignoring invalid distribution -weepy (/home/mglee/anaconda3/envs/save/lib/python3.8/site-packages)\u001b[0m\n",
            "\u001b[33mWARNING: Ignoring invalid distribution -weepy (/home/mglee/anaconda3/envs/save/lib/python3.8/site-packages)\u001b[0m\n",
            "\u001b[33mWARNING: Ignoring invalid distribution -weepy (/home/mglee/anaconda3/envs/save/lib/python3.8/site-packages)\u001b[0m\n",
            "\u001b[33mWARNING: Ignoring invalid distribution -weepy (/home/mglee/anaconda3/envs/save/lib/python3.8/site-packages)\u001b[0m\n",
            "\u001b[33mWARNING: Ignoring invalid distribution -weepy (/home/mglee/anaconda3/envs/save/lib/python3.8/site-packages)\u001b[0m\n",
            "Requirement already satisfied: transformers in /home/mglee/anaconda3/envs/save/lib/python3.8/site-packages (4.8.1)\n",
            "Requirement already satisfied: regex!=2019.12.17 in /home/mglee/anaconda3/envs/save/lib/python3.8/site-packages (from transformers) (2021.11.2)\n",
            "Requirement already satisfied: tokenizers<0.11,>=0.10.1 in /home/mglee/anaconda3/envs/save/lib/python3.8/site-packages (from transformers) (0.10.3)\n",
            "Requirement already satisfied: tqdm>=4.27 in /home/mglee/anaconda3/envs/save/lib/python3.8/site-packages (from transformers) (4.62.3)\n",
            "Requirement already satisfied: sacremoses in /home/mglee/anaconda3/envs/save/lib/python3.8/site-packages (from transformers) (0.0.53)\n",
            "Requirement already satisfied: requests in /home/mglee/anaconda3/envs/save/lib/python3.8/site-packages (from transformers) (2.27.1)\n",
            "Requirement already satisfied: filelock in /home/mglee/anaconda3/envs/save/lib/python3.8/site-packages (from transformers) (3.4.2)\n",
            "Requirement already satisfied: pyyaml in /home/mglee/anaconda3/envs/save/lib/python3.8/site-packages (from transformers) (6.0)\n",
            "Requirement already satisfied: packaging in /home/mglee/anaconda3/envs/save/lib/python3.8/site-packages (from transformers) (21.3)\n",
            "Requirement already satisfied: numpy>=1.17 in /home/mglee/anaconda3/envs/save/lib/python3.8/site-packages (from transformers) (1.20.3)\n",
            "Requirement already satisfied: huggingface-hub==0.0.12 in /home/mglee/anaconda3/envs/save/lib/python3.8/site-packages (from transformers) (0.0.12)\n",
            "Requirement already satisfied: typing-extensions in /home/mglee/anaconda3/envs/save/lib/python3.8/site-packages (from huggingface-hub==0.0.12->transformers) (3.10.0.2)\n",
            "Requirement already satisfied: pyparsing!=3.0.5,>=2.0.2 in /home/mglee/anaconda3/envs/save/lib/python3.8/site-packages (from packaging->transformers) (3.0.4)\n",
            "Requirement already satisfied: charset-normalizer~=2.0.0 in /home/mglee/anaconda3/envs/save/lib/python3.8/site-packages (from requests->transformers) (2.0.4)\n",
            "Requirement already satisfied: certifi>=2017.4.17 in /home/mglee/anaconda3/envs/save/lib/python3.8/site-packages (from requests->transformers) (2021.10.8)\n",
            "Requirement already satisfied: urllib3<1.27,>=1.21.1 in /home/mglee/anaconda3/envs/save/lib/python3.8/site-packages (from requests->transformers) (1.25.11)\n",
            "Requirement already satisfied: idna<4,>=2.5 in /home/mglee/anaconda3/envs/save/lib/python3.8/site-packages (from requests->transformers) (3.3)\n",
            "Requirement already satisfied: click in /home/mglee/anaconda3/envs/save/lib/python3.8/site-packages (from sacremoses->transformers) (8.0.3)\n",
            "Requirement already satisfied: six in /home/mglee/anaconda3/envs/save/lib/python3.8/site-packages (from sacremoses->transformers) (1.16.0)\n",
            "Requirement already satisfied: joblib in /home/mglee/anaconda3/envs/save/lib/python3.8/site-packages (from sacremoses->transformers) (1.1.0)\n",
            "\u001b[33mWARNING: Ignoring invalid distribution -weepy (/home/mglee/anaconda3/envs/save/lib/python3.8/site-packages)\u001b[0m\n",
            "\u001b[33mWARNING: Ignoring invalid distribution -weepy (/home/mglee/anaconda3/envs/save/lib/python3.8/site-packages)\u001b[0m\n",
            "\u001b[33mWARNING: Ignoring invalid distribution -weepy (/home/mglee/anaconda3/envs/save/lib/python3.8/site-packages)\u001b[0m\n",
            "\u001b[33mWARNING: Ignoring invalid distribution -weepy (/home/mglee/anaconda3/envs/save/lib/python3.8/site-packages)\u001b[0m\n",
            "\u001b[33mWARNING: Ignoring invalid distribution -weepy (/home/mglee/anaconda3/envs/save/lib/python3.8/site-packages)\u001b[0m\n",
            "\u001b[33mWARNING: Ignoring invalid distribution -weepy (/home/mglee/anaconda3/envs/save/lib/python3.8/site-packages)\u001b[0m\n",
            "Requirement already satisfied: torch in /home/mglee/anaconda3/envs/save/lib/python3.8/site-packages (1.10.0+cu113)\n",
            "Requirement already satisfied: typing-extensions in /home/mglee/anaconda3/envs/save/lib/python3.8/site-packages (from torch) (3.10.0.2)\n",
            "\u001b[33mWARNING: Ignoring invalid distribution -weepy (/home/mglee/anaconda3/envs/save/lib/python3.8/site-packages)\u001b[0m\n",
            "\u001b[33mWARNING: Ignoring invalid distribution -weepy (/home/mglee/anaconda3/envs/save/lib/python3.8/site-packages)\u001b[0m\n",
            "\u001b[33mWARNING: Ignoring invalid distribution -weepy (/home/mglee/anaconda3/envs/save/lib/python3.8/site-packages)\u001b[0m\n",
            "\u001b[33mWARNING: Ignoring invalid distribution -weepy (/home/mglee/anaconda3/envs/save/lib/python3.8/site-packages)\u001b[0m\n"
          ]
        }
      ],
      "source": [
        "!pip install mxnet\n",
        "!pip install gluonnlp pandas tqdm\n",
        "!pip install sentencepiece\n",
        "!pip install transformers\n",
        "!pip install torch"
      ]
    },
    {
      "cell_type": "code",
      "execution_count": 1,
      "metadata": {
        "colab": {
          "base_uri": "https://localhost:8080/"
        },
        "id": "gaBHeG74d3ih",
        "outputId": "02659324-cf66-4b84-cfa8-f0146dc9fc33"
      },
      "outputs": [
        {
          "name": "stdout",
          "output_type": "stream",
          "text": [
            "\u001b[33mWARNING: Ignoring invalid distribution -weepy (/home/mglee/anaconda3/envs/save/lib/python3.8/site-packages)\u001b[0m\n",
            "\u001b[33mWARNING: Ignoring invalid distribution -weepy (/home/mglee/anaconda3/envs/save/lib/python3.8/site-packages)\u001b[0m\n",
            "Collecting git+https://****@github.com/SKTBrain/KoBERT.git@master\n",
            "  Cloning https://****@github.com/SKTBrain/KoBERT.git (to revision master) to /tmp/pip-req-build-kr2ej57t\n",
            "  Running command git clone -q 'https://****@github.com/SKTBrain/KoBERT.git' /tmp/pip-req-build-kr2ej57t\n",
            "  Resolved https://****@github.com/SKTBrain/KoBERT.git to commit 47a69af87928fc24e20f571fe10c3cc9dd9af9a3\n",
            "Collecting boto3<=1.15.18\n",
            "  Downloading boto3-1.15.18-py2.py3-none-any.whl (129 kB)\n",
            "\u001b[K     |████████████████████████████████| 129 kB 5.9 MB/s eta 0:00:01\n",
            "\u001b[?25hRequirement already satisfied: gluonnlp<=0.10.0,>=0.6.0 in /home/mglee/anaconda3/envs/save/lib/python3.8/site-packages (from kobert==0.2.3) (0.10.0)\n",
            "Collecting mxnet<=1.7.0.post2,>=1.4.0\n",
            "  Downloading mxnet-1.7.0.post2-py2.py3-none-manylinux2014_x86_64.whl (54.7 MB)\n",
            "\u001b[K     |████████████████████████████████| 54.7 MB 25.5 MB/s eta 0:00:01     |█████████████                   | 22.0 MB 38.4 MB/s eta 0:00:01     |█████████████████████████████   | 49.7 MB 28.7 MB/s eta 0:00:01\n",
            "\u001b[?25hCollecting onnxruntime<=1.8.0,==1.8.0\n",
            "  Using cached onnxruntime-1.8.0-cp38-cp38-manylinux_2_17_x86_64.manylinux2014_x86_64.whl (4.5 MB)\n",
            "Collecting sentencepiece<=0.1.96,>=0.1.6\n",
            "  Using cached sentencepiece-0.1.96-cp38-cp38-manylinux_2_17_x86_64.manylinux2014_x86_64.whl (1.2 MB)\n",
            "Requirement already satisfied: torch<=1.10.1,>=1.7.0 in /home/mglee/anaconda3/envs/save/lib/python3.8/site-packages (from kobert==0.2.3) (1.10.0+cu113)\n",
            "Collecting transformers<=4.8.1,>=4.8.1\n",
            "  Downloading transformers-4.8.1-py3-none-any.whl (2.5 MB)\n",
            "\u001b[K     |████████████████████████████████| 2.5 MB 32.5 MB/s eta 0:00:01\n",
            "\u001b[?25hRequirement already satisfied: protobuf in /home/mglee/anaconda3/envs/save/lib/python3.8/site-packages (from onnxruntime<=1.8.0,==1.8.0->kobert==0.2.3) (3.19.1)\n",
            "Requirement already satisfied: numpy>=1.16.6 in /home/mglee/anaconda3/envs/save/lib/python3.8/site-packages (from onnxruntime<=1.8.0,==1.8.0->kobert==0.2.3) (1.20.3)\n",
            "Requirement already satisfied: flatbuffers in /home/mglee/anaconda3/envs/save/lib/python3.8/site-packages (from onnxruntime<=1.8.0,==1.8.0->kobert==0.2.3) (1.12)\n",
            "Collecting botocore<1.19.0,>=1.18.18\n",
            "  Downloading botocore-1.18.18-py2.py3-none-any.whl (6.7 MB)\n",
            "\u001b[K     |████████████████████████████████| 6.7 MB 29.1 MB/s eta 0:00:01\n",
            "\u001b[?25hCollecting s3transfer<0.4.0,>=0.3.0\n",
            "  Downloading s3transfer-0.3.7-py2.py3-none-any.whl (73 kB)\n",
            "\u001b[K     |████████████████████████████████| 73 kB 3.3 MB/s  eta 0:00:01\n",
            "\u001b[?25hCollecting jmespath<1.0.0,>=0.7.1\n",
            "  Using cached jmespath-0.10.0-py2.py3-none-any.whl (24 kB)\n",
            "Requirement already satisfied: python-dateutil<3.0.0,>=2.1 in /home/mglee/anaconda3/envs/save/lib/python3.8/site-packages (from botocore<1.19.0,>=1.18.18->boto3<=1.15.18->kobert==0.2.3) (2.8.2)\n",
            "Collecting urllib3<1.26,>=1.20\n",
            "  Downloading urllib3-1.25.11-py2.py3-none-any.whl (127 kB)\n",
            "\u001b[K     |████████████████████████████████| 127 kB 28.1 MB/s eta 0:00:01\n",
            "\u001b[?25hRequirement already satisfied: cython in /home/mglee/anaconda3/envs/save/lib/python3.8/site-packages (from gluonnlp<=0.10.0,>=0.6.0->kobert==0.2.3) (0.29.25)\n",
            "Requirement already satisfied: packaging in /home/mglee/anaconda3/envs/save/lib/python3.8/site-packages (from gluonnlp<=0.10.0,>=0.6.0->kobert==0.2.3) (21.3)\n",
            "Requirement already satisfied: requests<3,>=2.20.0 in /home/mglee/anaconda3/envs/save/lib/python3.8/site-packages (from mxnet<=1.7.0.post2,>=1.4.0->kobert==0.2.3) (2.27.1)\n",
            "Requirement already satisfied: graphviz<0.9.0,>=0.8.1 in /home/mglee/anaconda3/envs/save/lib/python3.8/site-packages (from mxnet<=1.7.0.post2,>=1.4.0->kobert==0.2.3) (0.8.4)\n",
            "Requirement already satisfied: six>=1.5 in /home/mglee/anaconda3/envs/save/lib/python3.8/site-packages (from python-dateutil<3.0.0,>=2.1->botocore<1.19.0,>=1.18.18->boto3<=1.15.18->kobert==0.2.3) (1.16.0)\n",
            "Requirement already satisfied: charset-normalizer~=2.0.0 in /home/mglee/anaconda3/envs/save/lib/python3.8/site-packages (from requests<3,>=2.20.0->mxnet<=1.7.0.post2,>=1.4.0->kobert==0.2.3) (2.0.4)\n",
            "Requirement already satisfied: idna<4,>=2.5 in /home/mglee/anaconda3/envs/save/lib/python3.8/site-packages (from requests<3,>=2.20.0->mxnet<=1.7.0.post2,>=1.4.0->kobert==0.2.3) (3.3)\n",
            "Requirement already satisfied: certifi>=2017.4.17 in /home/mglee/anaconda3/envs/save/lib/python3.8/site-packages (from requests<3,>=2.20.0->mxnet<=1.7.0.post2,>=1.4.0->kobert==0.2.3) (2021.10.8)\n",
            "Requirement already satisfied: typing-extensions in /home/mglee/anaconda3/envs/save/lib/python3.8/site-packages (from torch<=1.10.1,>=1.7.0->kobert==0.2.3) (3.10.0.2)\n",
            "Requirement already satisfied: tqdm>=4.27 in /home/mglee/anaconda3/envs/save/lib/python3.8/site-packages (from transformers<=4.8.1,>=4.8.1->kobert==0.2.3) (4.62.3)\n",
            "Requirement already satisfied: filelock in /home/mglee/anaconda3/envs/save/lib/python3.8/site-packages (from transformers<=4.8.1,>=4.8.1->kobert==0.2.3) (3.4.2)\n",
            "Collecting huggingface-hub==0.0.12\n",
            "  Downloading huggingface_hub-0.0.12-py3-none-any.whl (37 kB)\n",
            "Collecting sacremoses\n",
            "  Downloading sacremoses-0.0.53.tar.gz (880 kB)\n",
            "\u001b[K     |████████████████████████████████| 880 kB 35.5 MB/s eta 0:00:01\n",
            "\u001b[?25hRequirement already satisfied: regex!=2019.12.17 in /home/mglee/anaconda3/envs/save/lib/python3.8/site-packages (from transformers<=4.8.1,>=4.8.1->kobert==0.2.3) (2021.11.2)\n",
            "Requirement already satisfied: pyyaml in /home/mglee/anaconda3/envs/save/lib/python3.8/site-packages (from transformers<=4.8.1,>=4.8.1->kobert==0.2.3) (6.0)\n",
            "Collecting tokenizers<0.11,>=0.10.1\n",
            "  Using cached tokenizers-0.10.3-cp38-cp38-manylinux_2_5_x86_64.manylinux1_x86_64.manylinux_2_12_x86_64.manylinux2010_x86_64.whl (3.3 MB)\n",
            "Requirement already satisfied: pyparsing!=3.0.5,>=2.0.2 in /home/mglee/anaconda3/envs/save/lib/python3.8/site-packages (from packaging->gluonnlp<=0.10.0,>=0.6.0->kobert==0.2.3) (3.0.4)\n",
            "Requirement already satisfied: click in /home/mglee/anaconda3/envs/save/lib/python3.8/site-packages (from sacremoses->transformers<=4.8.1,>=4.8.1->kobert==0.2.3) (8.0.3)\n",
            "Requirement already satisfied: joblib in /home/mglee/anaconda3/envs/save/lib/python3.8/site-packages (from sacremoses->transformers<=4.8.1,>=4.8.1->kobert==0.2.3) (1.1.0)\n",
            "Building wheels for collected packages: kobert, sacremoses\n",
            "  Building wheel for kobert (setup.py) ... \u001b[?25ldone\n",
            "\u001b[?25h  Created wheel for kobert: filename=kobert-0.2.3-py3-none-any.whl size=15708 sha256=2f47c278ae8203b1fffb5a5a3692d3f96570f11f8fb2dd3dacdf544faaab7869\n",
            "  Stored in directory: /tmp/pip-ephem-wheel-cache-x9r613st/wheels/bf/5f/74/81bf3a1332130eb6629ecf58876a8746b77021e7d7b0638e91\n",
            "  Building wheel for sacremoses (setup.py) ... \u001b[?25ldone\n",
            "\u001b[?25h  Created wheel for sacremoses: filename=sacremoses-0.0.53-py3-none-any.whl size=895260 sha256=1c432399a702ee906300f124296e4299f3f9b1741977c63dde5b404fddff5bab\n",
            "  Stored in directory: /home/mglee/.cache/pip/wheels/82/ab/9b/c15899bf659ba74f623ac776e861cf2eb8608c1825ddec66a4\n",
            "Successfully built kobert sacremoses\n",
            "\u001b[33mWARNING: Ignoring invalid distribution -weepy (/home/mglee/anaconda3/envs/save/lib/python3.8/site-packages)\u001b[0m\n",
            "Installing collected packages: urllib3, jmespath, botocore, tokenizers, sacremoses, s3transfer, huggingface-hub, transformers, sentencepiece, onnxruntime, mxnet, boto3, kobert\n",
            "  Attempting uninstall: urllib3\n",
            "\u001b[33m    WARNING: Ignoring invalid distribution -weepy (/home/mglee/anaconda3/envs/save/lib/python3.8/site-packages)\u001b[0m\n",
            "    Found existing installation: urllib3 1.26.8\n",
            "    Uninstalling urllib3-1.26.8:\n",
            "      Successfully uninstalled urllib3-1.26.8\n",
            "  Attempting uninstall: tokenizers\n",
            "\u001b[33m    WARNING: Ignoring invalid distribution -weepy (/home/mglee/anaconda3/envs/save/lib/python3.8/site-packages)\u001b[0m\n",
            "    Found existing installation: tokenizers 0.12.1\n",
            "    Uninstalling tokenizers-0.12.1:\n",
            "      Successfully uninstalled tokenizers-0.12.1\n",
            "  Attempting uninstall: huggingface-hub\n",
            "\u001b[33m    WARNING: Ignoring invalid distribution -weepy (/home/mglee/anaconda3/envs/save/lib/python3.8/site-packages)\u001b[0m\n",
            "    Found existing installation: huggingface-hub 0.10.0\n",
            "    Uninstalling huggingface-hub-0.10.0:\n",
            "      Successfully uninstalled huggingface-hub-0.10.0\n",
            "  Attempting uninstall: transformers\n",
            "\u001b[33m    WARNING: Ignoring invalid distribution -weepy (/home/mglee/anaconda3/envs/save/lib/python3.8/site-packages)\u001b[0m\n",
            "    Found existing installation: transformers 4.22.2\n",
            "    Uninstalling transformers-4.22.2:\n",
            "      Successfully uninstalled transformers-4.22.2\n",
            "  Attempting uninstall: mxnet\n",
            "\u001b[33m    WARNING: Ignoring invalid distribution -weepy (/home/mglee/anaconda3/envs/save/lib/python3.8/site-packages)\u001b[0m\n",
            "    Found existing installation: mxnet 1.9.1\n",
            "    Uninstalling mxnet-1.9.1:\n",
            "      Successfully uninstalled mxnet-1.9.1\n",
            "\u001b[33mWARNING: Ignoring invalid distribution -weepy (/home/mglee/anaconda3/envs/save/lib/python3.8/site-packages)\u001b[0m\n",
            "\u001b[33mWARNING: Ignoring invalid distribution -weepy (/home/mglee/anaconda3/envs/save/lib/python3.8/site-packages)\u001b[0m\n",
            "\u001b[33mWARNING: Ignoring invalid distribution -weepy (/home/mglee/anaconda3/envs/save/lib/python3.8/site-packages)\u001b[0m\n",
            "\u001b[33mWARNING: Ignoring invalid distribution -weepy (/home/mglee/anaconda3/envs/save/lib/python3.8/site-packages)\u001b[0m\n",
            "\u001b[33mWARNING: Ignoring invalid distribution -weepy (/home/mglee/anaconda3/envs/save/lib/python3.8/site-packages)\u001b[0m\n",
            "\u001b[33mWARNING: Ignoring invalid distribution -weepy (/home/mglee/anaconda3/envs/save/lib/python3.8/site-packages)\u001b[0m\n",
            "\u001b[33mWARNING: Ignoring invalid distribution -weepy (/home/mglee/anaconda3/envs/save/lib/python3.8/site-packages)\u001b[0m\n",
            "\u001b[33mWARNING: Ignoring invalid distribution -weepy (/home/mglee/anaconda3/envs/save/lib/python3.8/site-packages)\u001b[0m\n",
            "\u001b[33mWARNING: Ignoring invalid distribution -weepy (/home/mglee/anaconda3/envs/save/lib/python3.8/site-packages)\u001b[0m\n",
            "\u001b[33mWARNING: Ignoring invalid distribution -weepy (/home/mglee/anaconda3/envs/save/lib/python3.8/site-packages)\u001b[0m\n",
            "\u001b[33mWARNING: Ignoring invalid distribution -weepy (/home/mglee/anaconda3/envs/save/lib/python3.8/site-packages)\u001b[0m\n",
            "\u001b[33mWARNING: Ignoring invalid distribution -weepy (/home/mglee/anaconda3/envs/save/lib/python3.8/site-packages)\u001b[0m\n",
            "\u001b[33mWARNING: Ignoring invalid distribution -weepy (/home/mglee/anaconda3/envs/save/lib/python3.8/site-packages)\u001b[0m\n",
            "\u001b[31mERROR: pip's dependency resolver does not currently take into account all the packages that are installed. This behaviour is the source of the following dependency conflicts.\n",
            "anaconda-project 0.10.2 requires ruamel-yaml, which is not installed.\n",
            "selenium 4.4.3 requires urllib3[socks]~=1.26, but you have urllib3 1.25.11 which is incompatible.\u001b[0m\n",
            "Successfully installed boto3-1.15.18 botocore-1.18.18 huggingface-hub-0.0.12 jmespath-0.10.0 kobert-0.2.3 mxnet-1.7.0.post2 onnxruntime-1.8.0 s3transfer-0.3.7 sacremoses-0.0.53 sentencepiece-0.1.96 tokenizers-0.10.3 transformers-4.8.1 urllib3-1.25.11\n",
            "\u001b[33mWARNING: Ignoring invalid distribution -weepy (/home/mglee/anaconda3/envs/save/lib/python3.8/site-packages)\u001b[0m\n",
            "\u001b[33mWARNING: Ignoring invalid distribution -weepy (/home/mglee/anaconda3/envs/save/lib/python3.8/site-packages)\u001b[0m\n",
            "\u001b[33mWARNING: Ignoring invalid distribution -weepy (/home/mglee/anaconda3/envs/save/lib/python3.8/site-packages)\u001b[0m\n"
          ]
        }
      ],
      "source": [
        "!pip install git+https://git@github.com/SKTBrain/KoBERT.git@master"
      ]
    },
    {
      "cell_type": "code",
      "execution_count": 1,
      "metadata": {
        "id": "1qyZ9FfLd3ih"
      },
      "outputs": [],
      "source": [
        "import torch\n",
        "from torch import nn\n",
        "import torch.nn.functional as F\n",
        "import torch.optim as optim\n",
        "from torch.utils.data import Dataset, DataLoader\n",
        "import gluonnlp as nlp\n",
        "import numpy as np\n",
        "from tqdm import tqdm, tqdm_notebook"
      ]
    },
    {
      "cell_type": "code",
      "execution_count": 2,
      "metadata": {
        "id": "XxgQ96K-d3ih"
      },
      "outputs": [],
      "source": [
        "from kobert.utils import get_tokenizer\n",
        "from kobert.pytorch_kobert import get_pytorch_kobert_model"
      ]
    },
    {
      "cell_type": "code",
      "execution_count": 3,
      "metadata": {
        "id": "LvyA-n2Qd3ii"
      },
      "outputs": [
        {
          "name": "stderr",
          "output_type": "stream",
          "text": [
            "2022-10-18 13:10:29.445731: I tensorflow/stream_executor/platform/default/dso_loader.cc:49] Successfully opened dynamic library libcudart.so.11.0\n"
          ]
        }
      ],
      "source": [
        "from transformers import AdamW\n",
        "from transformers.optimization import get_cosine_schedule_with_warmup"
      ]
    },
    {
      "cell_type": "code",
      "execution_count": 4,
      "metadata": {
        "id": "ABzAkadMd3ii"
      },
      "outputs": [],
      "source": [
        "##GPU 사용 시\n",
        "device = torch.device(\"cuda:0\")"
      ]
    },
    {
      "cell_type": "code",
      "execution_count": 5,
      "metadata": {
        "colab": {
          "base_uri": "https://localhost:8080/"
        },
        "id": "VKVZuElWd3ii",
        "outputId": "53e38bd3-7ba5-446a-ee54-83c04717c1a2"
      },
      "outputs": [
        {
          "name": "stdout",
          "output_type": "stream",
          "text": [
            "using cached model. /home/mglee/VSCODE/git_folder/naver_comments/code/.cache/kobert_v1.zip\n",
            "using cached model. /home/mglee/VSCODE/git_folder/naver_comments/code/.cache/kobert_news_wiki_ko_cased-1087f8699e.spiece\n"
          ]
        }
      ],
      "source": [
        "bertmodel, vocab = get_pytorch_kobert_model()"
      ]
    },
    {
      "cell_type": "code",
      "execution_count": 11,
      "metadata": {
        "colab": {
          "base_uri": "https://localhost:8080/"
        },
        "id": "jIfSw2qxd3ij",
        "outputId": "2db37957-da09-4268-884e-a8e0978f76c9"
      },
      "outputs": [
        {
          "name": "stdout",
          "output_type": "stream",
          "text": [
            "--2022-10-17 23:46:00--  https://www.dropbox.com/s/374ftkec978br3d/ratings_train.txt?dl=1\n",
            "Resolving www.dropbox.com (www.dropbox.com)... 162.125.84.18, 2620:100:6034:18::a27d:5412\n",
            "Connecting to www.dropbox.com (www.dropbox.com)|162.125.84.18|:443... connected.\n",
            "HTTP request sent, awaiting response... 302 Found\n",
            "Location: /s/dl/374ftkec978br3d/ratings_train.txt [following]\n",
            "--2022-10-17 23:46:01--  https://www.dropbox.com/s/dl/374ftkec978br3d/ratings_train.txt\n",
            "Reusing existing connection to www.dropbox.com:443.\n",
            "HTTP request sent, awaiting response... 302 Found\n",
            "Location: https://ucba262d33702ff268dd41ab3c9c.dl.dropboxusercontent.com/cd/0/get/Bu8Nt-S95m4yC1Y_TDEzloyjhE8G1TlH8kYNI2YHQBGJ3PXDz0L8Vj9M1EVyKu3zX2wGyMp3lXrKVNnFNYrju7DN4LHgv4o-6P8pBAFZxdoThYnL4--GbtRFQiPiZv33KIadbgmHDdobD-_1lB1k-5LoVbszgX_UdHE1Jg_H8-_PuA/file?dl=1# [following]\n",
            "--2022-10-17 23:46:02--  https://ucba262d33702ff268dd41ab3c9c.dl.dropboxusercontent.com/cd/0/get/Bu8Nt-S95m4yC1Y_TDEzloyjhE8G1TlH8kYNI2YHQBGJ3PXDz0L8Vj9M1EVyKu3zX2wGyMp3lXrKVNnFNYrju7DN4LHgv4o-6P8pBAFZxdoThYnL4--GbtRFQiPiZv33KIadbgmHDdobD-_1lB1k-5LoVbszgX_UdHE1Jg_H8-_PuA/file?dl=1\n",
            "Resolving ucba262d33702ff268dd41ab3c9c.dl.dropboxusercontent.com (ucba262d33702ff268dd41ab3c9c.dl.dropboxusercontent.com)... 162.125.84.15, 2620:100:6034:15::a27d:540f\n",
            "Connecting to ucba262d33702ff268dd41ab3c9c.dl.dropboxusercontent.com (ucba262d33702ff268dd41ab3c9c.dl.dropboxusercontent.com)|162.125.84.15|:443... connected.\n",
            "HTTP request sent, awaiting response... 200 OK\n",
            "Length: 14628807 (14M) [application/binary]\n",
            "Saving to: ‘ratings_train.txt?dl=1’\n",
            "\n",
            "ratings_train.txt?d 100%[===================>]  13.95M  12.3MB/s    in 1.1s    \n",
            "\n",
            "2022-10-17 23:46:04 (12.3 MB/s) - ‘ratings_train.txt?dl=1’ saved [14628807/14628807]\n",
            "\n",
            "--2022-10-17 23:46:04--  https://www.dropbox.com/s/977gbwh542gdy94/ratings_test.txt?dl=1\n",
            "Resolving www.dropbox.com (www.dropbox.com)... 162.125.84.18, 2620:100:6034:18::a27d:5412\n",
            "Connecting to www.dropbox.com (www.dropbox.com)|162.125.84.18|:443... connected.\n",
            "HTTP request sent, awaiting response... 302 Found\n",
            "Location: /s/dl/977gbwh542gdy94/ratings_test.txt [following]\n",
            "--2022-10-17 23:46:05--  https://www.dropbox.com/s/dl/977gbwh542gdy94/ratings_test.txt\n",
            "Reusing existing connection to www.dropbox.com:443.\n",
            "HTTP request sent, awaiting response... 302 Found\n",
            "Location: https://uce4a23a402f075da2ec83c909f5.dl.dropboxusercontent.com/cd/0/get/Bu8nsrvkDrSDuCQQvlI0k0UHs5sajE015sLawDugfTknonkhZ07eWrP39Q0WiKiWd5NRJHThLZ1ArqD2l1jya_AjwfnKXn92XeiMmu0jedEJZ4x3BFBbDsMZuyoibdKmbLxQYlUcjbGMTEuCA3W5wAwpXh8zeg38Q4f-F4s2HELgIw/file?dl=1# [following]\n",
            "--2022-10-17 23:46:05--  https://uce4a23a402f075da2ec83c909f5.dl.dropboxusercontent.com/cd/0/get/Bu8nsrvkDrSDuCQQvlI0k0UHs5sajE015sLawDugfTknonkhZ07eWrP39Q0WiKiWd5NRJHThLZ1ArqD2l1jya_AjwfnKXn92XeiMmu0jedEJZ4x3BFBbDsMZuyoibdKmbLxQYlUcjbGMTEuCA3W5wAwpXh8zeg38Q4f-F4s2HELgIw/file?dl=1\n",
            "Resolving uce4a23a402f075da2ec83c909f5.dl.dropboxusercontent.com (uce4a23a402f075da2ec83c909f5.dl.dropboxusercontent.com)... 162.125.84.15, 2620:100:6034:15::a27d:540f\n",
            "Connecting to uce4a23a402f075da2ec83c909f5.dl.dropboxusercontent.com (uce4a23a402f075da2ec83c909f5.dl.dropboxusercontent.com)|162.125.84.15|:443... connected.\n",
            "HTTP request sent, awaiting response... 200 OK\n",
            "Length: 4893335 (4.7M) [application/binary]\n",
            "Saving to: ‘ratings_test.txt?dl=1’\n",
            "\n",
            "ratings_test.txt?dl 100%[===================>]   4.67M  8.81MB/s    in 0.5s    \n",
            "\n",
            "2022-10-17 23:46:06 (8.81 MB/s) - ‘ratings_test.txt?dl=1’ saved [4893335/4893335]\n",
            "\n"
          ]
        }
      ],
      "source": [
        "!wget https://www.dropbox.com/s/374ftkec978br3d/ratings_train.txt?dl=1\n",
        "!wget https://www.dropbox.com/s/977gbwh542gdy94/ratings_test.txt?dl=1"
      ]
    },
    {
      "cell_type": "code",
      "execution_count": 6,
      "metadata": {
        "id": "qhU298dOd3ij"
      },
      "outputs": [],
      "source": [
        "dataset_train = nlp.data.TSVDataset(\"ratings_train.txt?dl=1\", field_indices=[1,2], num_discard_samples=1)\n",
        "dataset_test = nlp.data.TSVDataset(\"ratings_test.txt?dl=1\", field_indices=[1,2], num_discard_samples=1)"
      ]
    },
    {
      "cell_type": "code",
      "execution_count": 7,
      "metadata": {},
      "outputs": [
        {
          "data": {
            "text/plain": [
              "<gluonnlp.data.dataset.TSVDataset at 0x7f14d717c730>"
            ]
          },
          "execution_count": 7,
          "metadata": {},
          "output_type": "execute_result"
        }
      ],
      "source": [
        "dataset_train"
      ]
    },
    {
      "cell_type": "code",
      "execution_count": 8,
      "metadata": {
        "colab": {
          "base_uri": "https://localhost:8080/"
        },
        "id": "PLAVpN0jd3ij",
        "outputId": "fc4049a5-f40a-40f1-a415-16a31978a69a"
      },
      "outputs": [
        {
          "name": "stdout",
          "output_type": "stream",
          "text": [
            "using cached model. /home/mglee/VSCODE/git_folder/naver_comments/code/.cache/kobert_news_wiki_ko_cased-1087f8699e.spiece\n"
          ]
        }
      ],
      "source": [
        "tokenizer = get_tokenizer()\n",
        "tok = nlp.data.BERTSPTokenizer(tokenizer, vocab, lower=False)"
      ]
    },
    {
      "cell_type": "code",
      "execution_count": 9,
      "metadata": {
        "id": "Qc1XNJf-d3ik"
      },
      "outputs": [],
      "source": [
        "class BERTDataset(Dataset):\n",
        "    def __init__(self, dataset, sent_idx, label_idx, bert_tokenizer, max_len,\n",
        "                 pad, pair):\n",
        "        transform = nlp.data.BERTSentenceTransform(\n",
        "            bert_tokenizer, max_seq_length=max_len, pad=pad, pair=pair)\n",
        "\n",
        "        self.sentences = [transform([i[sent_idx]]) for i in dataset]\n",
        "        self.labels = [np.int32(i[label_idx]) for i in dataset]\n",
        "\n",
        "    def __getitem__(self, i):\n",
        "        return (self.sentences[i] + (self.labels[i], ))\n",
        "\n",
        "    def __len__(self):\n",
        "        return (len(self.labels))\n"
      ]
    },
    {
      "cell_type": "code",
      "execution_count": 10,
      "metadata": {
        "id": "Tgm3MQntd3ik"
      },
      "outputs": [],
      "source": [
        "## Setting parameters\n",
        "max_len = 64\n",
        "batch_size = 32\n",
        "warmup_ratio = 0.1\n",
        "num_epochs = 5\n",
        "max_grad_norm = 1\n",
        "log_interval = 500\n",
        "learning_rate =  5e-5"
      ]
    },
    {
      "cell_type": "code",
      "execution_count": 12,
      "metadata": {
        "id": "QI05ljtVd3ik"
      },
      "outputs": [],
      "source": [
        "data_train = BERTDataset(dataset_train, 0, 1, tok, max_len, True, False)\n",
        "data_test = BERTDataset(dataset_test, 0, 1, tok, max_len, True, False)"
      ]
    },
    {
      "cell_type": "code",
      "execution_count": 13,
      "metadata": {
        "colab": {
          "base_uri": "https://localhost:8080/"
        },
        "id": "Rk7wKtPFd3il",
        "outputId": "53183ba5-683e-4260-df79-7040e509bc94"
      },
      "outputs": [],
      "source": [
        "train_dataloader = torch.utils.data.DataLoader(data_train, batch_size=batch_size, num_workers=5)\n",
        "test_dataloader = torch.utils.data.DataLoader(data_test, batch_size=batch_size, num_workers=5)"
      ]
    },
    {
      "cell_type": "code",
      "execution_count": 14,
      "metadata": {
        "colab": {
          "base_uri": "https://localhost:8080/"
        },
        "id": "RKz_OFkyrGAk",
        "outputId": "b6eef07d-b973-416c-ad51-414e09b974f9"
      },
      "outputs": [
        {
          "name": "stdout",
          "output_type": "stream",
          "text": [
            "Data:  [tensor([[   2, 3093, 1698,  ...,    1,    1,    1],\n",
            "        [   2,  517, 7989,  ...,    1,    1,    1],\n",
            "        [   2, 1458, 7191,  ...,    1,    1,    1],\n",
            "        ...,\n",
            "        [   2,  517, 6592,  ...,    1,    1,    1],\n",
            "        [   2, 3255, 7728,  ...,    1,    1,    1],\n",
            "        [   2,  517, 7265,  ...,    1,    1,    1]], dtype=torch.int32), tensor([15, 36, 14, 26, 47, 41, 16, 64, 13, 38, 17, 35, 29, 34, 34, 13, 45, 23,\n",
            "        35, 27, 27, 10, 64, 17, 11, 42, 19,  9,  6, 36, 33, 25],\n",
            "       dtype=torch.int32), tensor([[0, 0, 0,  ..., 0, 0, 0],\n",
            "        [0, 0, 0,  ..., 0, 0, 0],\n",
            "        [0, 0, 0,  ..., 0, 0, 0],\n",
            "        ...,\n",
            "        [0, 0, 0,  ..., 0, 0, 0],\n",
            "        [0, 0, 0,  ..., 0, 0, 0],\n",
            "        [0, 0, 0,  ..., 0, 0, 0]], dtype=torch.int32), tensor([0, 1, 0, 0, 1, 0, 0, 0, 1, 1, 1, 1, 0, 1, 0, 1, 1, 0, 1, 1, 1, 1, 0, 1,\n",
            "        0, 0, 1, 0, 1, 1, 1, 0], dtype=torch.int32)]\n",
            "Waveform: tensor([[   2, 3093, 1698,  ...,    1,    1,    1],\n",
            "        [   2,  517, 7989,  ...,    1,    1,    1],\n",
            "        [   2, 1458, 7191,  ...,    1,    1,    1],\n",
            "        ...,\n",
            "        [   2,  517, 6592,  ...,    1,    1,    1],\n",
            "        [   2, 3255, 7728,  ...,    1,    1,    1],\n",
            "        [   2,  517, 7265,  ...,    1,    1,    1]], dtype=torch.int32)\n",
            "Sample rate: tensor([15, 36, 14, 26, 47, 41, 16, 64, 13, 38, 17, 35, 29, 34, 34, 13, 45, 23,\n",
            "        35, 27, 27, 10, 64, 17, 11, 42, 19,  9,  6, 36, 33, 25],\n",
            "       dtype=torch.int32)\n",
            "Labels: tensor([[0, 0, 0,  ..., 0, 0, 0],\n",
            "        [0, 0, 0,  ..., 0, 0, 0],\n",
            "        [0, 0, 0,  ..., 0, 0, 0],\n",
            "        ...,\n",
            "        [0, 0, 0,  ..., 0, 0, 0],\n",
            "        [0, 0, 0,  ..., 0, 0, 0],\n",
            "        [0, 0, 0,  ..., 0, 0, 0]], dtype=torch.int32)\n"
          ]
        }
      ],
      "source": [
        "for data in train_dataloader:\n",
        "  print(\"Data: \", data)\n",
        "  print(\"Waveform: {}\\nSample rate: {}\\nLabels: {}\".format(data[0], data[1], data[2]))\n",
        "  break"
      ]
    },
    {
      "cell_type": "code",
      "execution_count": 15,
      "metadata": {
        "id": "RtnfcSSXd3il"
      },
      "outputs": [],
      "source": [
        "class BERTClassifier(nn.Module):\n",
        "    def __init__(self,\n",
        "                 bert,\n",
        "                 hidden_size = 768,\n",
        "                 num_classes=2,\n",
        "                 dr_rate=None,\n",
        "                 params=None):\n",
        "        super(BERTClassifier, self).__init__()\n",
        "        self.bert = bert\n",
        "        self.dr_rate = dr_rate\n",
        "                 \n",
        "        self.classifier = nn.Linear(hidden_size , num_classes)\n",
        "        if dr_rate:\n",
        "            self.dropout = nn.Dropout(p=dr_rate)\n",
        "    \n",
        "    def gen_attention_mask(self, token_ids, valid_length):\n",
        "        attention_mask = torch.zeros_like(token_ids)\n",
        "        for i, v in enumerate(valid_length):\n",
        "            attention_mask[i][:v] = 1\n",
        "        return attention_mask.float()\n",
        "\n",
        "    def forward(self, token_ids, valid_length, segment_ids):\n",
        "        attention_mask = self.gen_attention_mask(token_ids, valid_length)\n",
        "        \n",
        "        _, pooler = self.bert(input_ids = token_ids, token_type_ids = segment_ids.long(), attention_mask = attention_mask.float().to(token_ids.device))\n",
        "        if self.dr_rate:\n",
        "            out = self.dropout(pooler)\n",
        "        return self.classifier(out)"
      ]
    },
    {
      "cell_type": "code",
      "execution_count": 16,
      "metadata": {
        "id": "NUtxOTwcd3im"
      },
      "outputs": [],
      "source": [
        "model = BERTClassifier(bertmodel,  dr_rate=0.5).to(device)"
      ]
    },
    {
      "cell_type": "code",
      "execution_count": 17,
      "metadata": {
        "id": "i8WUEZsLd3im"
      },
      "outputs": [],
      "source": [
        "# Prepare optimizer and schedule (linear warmup and decay)\n",
        "no_decay = ['bias', 'LayerNorm.weight']\n",
        "optimizer_grouped_parameters = [\n",
        "    {'params': [p for n, p in model.named_parameters() if not any(nd in n for nd in no_decay)], 'weight_decay': 0.01},\n",
        "    {'params': [p for n, p in model.named_parameters() if any(nd in n for nd in no_decay)], 'weight_decay': 0.0}\n",
        "]"
      ]
    },
    {
      "cell_type": "code",
      "execution_count": 18,
      "metadata": {
        "id": "2-bwBrMJd3im"
      },
      "outputs": [],
      "source": [
        "optimizer = AdamW(optimizer_grouped_parameters, lr=learning_rate)\n",
        "loss_fn = nn.CrossEntropyLoss()"
      ]
    },
    {
      "cell_type": "code",
      "execution_count": 19,
      "metadata": {
        "id": "VhURSlzyd3in"
      },
      "outputs": [],
      "source": [
        "t_total = len(train_dataloader) * num_epochs\n",
        "warmup_step = int(t_total * warmup_ratio)"
      ]
    },
    {
      "cell_type": "code",
      "execution_count": 20,
      "metadata": {
        "id": "txuMz5wTd3in"
      },
      "outputs": [],
      "source": [
        "scheduler = get_cosine_schedule_with_warmup(optimizer, num_warmup_steps=warmup_step, num_training_steps=t_total)"
      ]
    },
    {
      "cell_type": "code",
      "execution_count": 21,
      "metadata": {
        "id": "CNluR9OBd3in"
      },
      "outputs": [],
      "source": [
        "def calc_accuracy(X,Y):\n",
        "    max_vals, max_indices = torch.max(X, 1)\n",
        "    train_acc = (max_indices == Y).sum().data.cpu().numpy()/max_indices.size()[0]\n",
        "    return train_acc"
      ]
    },
    {
      "cell_type": "code",
      "execution_count": 22,
      "metadata": {
        "colab": {
          "background_save": true,
          "base_uri": "https://localhost:8080/",
          "height": 1000,
          "referenced_widgets": [
            "11090fc76db3463f81088d2ab3a1d631",
            "0df68f720ffa48f69d3e7f603fe2e905",
            "daf7eab4eec4494d88f492c0b32d64e5",
            "f6e63c8a254d43eca85076ac71c36c46",
            "fe24464c2377420ba2c51c5c7d368d53",
            "0e208985afe9457c93d26a300450cee7",
            "111b8510b9284f619ec7bb546786c789",
            "8c33375489b84d4a9e658623d5153fd6",
            "2ba2219a51ba4f32bc5a686667d34f77",
            "a587a90fe7364ab9a984ee08d34f2f33",
            "3a78d21cfb0046859bd39c9f913a9577",
            "cf41737c53d4455889e7d8545f963c08",
            "28864bba65c941bf914b75701688cb1a",
            "f28262603c3c402aa24e3b693e195d55",
            "f53ed0ea78a5441a9efe684474c867a0",
            "6de48ff591b24700ad25b6b716138e2d",
            "041f7c2f3fa04517a7bbb69db82a3ca4",
            "51b06dd9f1c7491da968a637121faf4f",
            "f53c78e1da2645d5986284d866fb7688",
            "17f77deddbcc4d79a4346483d407c143",
            "f34792f2609d46d395203ac6d9f88944",
            "42621367ed3447c19bcc250799307076",
            "494a3af9635243f7bd6e3ef7f83cc4dc",
            "4784bfcbeac94053a5d66690ae9b526d",
            "c27f8ead526f417d9ebbf513245a21a7",
            "b181afc128e64a0cafac27e590f4ff3b",
            "765aee5b69e34414b8f0b02dc47c6048",
            "728726552d2148e4a7a1333b78bc3ae7",
            "4d26fe7583a74e5ba0f3790b76bc9978",
            "ef71d8a9b6474f349f5e252262d2cba3",
            "6cab552532994fa4aa99525640550fa4",
            "f3b9cdcb4dcd44c495b3c37c1d8bdd9b",
            "6dcdb940c1bb49508451c2166431783c",
            "87ae808cfbe442adbea44e756d7f2510",
            "e9545f1ebc0f4b459e885788d2bb154a",
            "56598da1815747a7add0c18c01ed33d0",
            "595b913b39d24c9da997e4e5014e73c9",
            "de8bd25d04c446cca3775e6d47a7fee2",
            "24c8cd627f754cc1bef0950596417573",
            "b01b00767ee445eeb211c5d1028c465b",
            "9159cef67b50471290712c7217fc93a3",
            "f6bf5fb12617460c8defc68228dea2b0",
            "c2c4e7af641a4b7386047be0efe83ddf",
            "0ae31d6bf3ef42b1b2e04b3a0e398bc7",
            "571e89e50a1f43e6a1854c39602d9d78",
            "78908dd5f4b040e5a34c5be182de20bd",
            "8d428621f1ac4a959f61ef37ae6bd0b3",
            "abc71404571e48c9ad5f156cd07fa946",
            "6aa89407a6a5469cb4c0e7b3fa6648e4",
            "e42618c84b284629b0b0900d37547df2",
            "aa904181d1a34e01aa1135140df8b5a7",
            "ac63e14959d240eca7a9c17616c9b51f",
            "3027f8ad64e64a0abaa1aaf4672daff7",
            "66460bb7f69b4efca3a3bbb3d4b6f754",
            "d9ec152158a34a959eddbec5035295fc",
            "4ff3f68b57b54673beb2669162f4d287",
            "519bca877d5e4548b74a992716dcf030",
            "59cf1b0e141745c2a7b9cd50c52a5952",
            "6d4b382e5c454adf8e1b879f474e141b"
          ]
        },
        "id": "LwUsFJ0Ed3in",
        "outputId": "0c389c52-15c7-49a3-e5b3-fcef8ace246c"
      },
      "outputs": [
        {
          "name": "stderr",
          "output_type": "stream",
          "text": [
            "/tmp/ipykernel_22753/1280546429.py:5: TqdmDeprecationWarning: This function will be removed in tqdm==5.0.0\n",
            "Please use `tqdm.notebook.tqdm` instead of `tqdm.tqdm_notebook`\n",
            "  for batch_id, (token_ids, valid_length, segment_ids, label) in enumerate(tqdm_notebook(train_dataloader)):\n"
          ]
        },
        {
          "data": {
            "application/vnd.jupyter.widget-view+json": {
              "model_id": "86836fcbab6d4b28a68224372df80801",
              "version_major": 2,
              "version_minor": 0
            },
            "text/plain": [
              "  0%|          | 0/4688 [00:00<?, ?it/s]"
            ]
          },
          "metadata": {},
          "output_type": "display_data"
        },
        {
          "name": "stdout",
          "output_type": "stream",
          "text": [
            "epoch 1 batch id 1 loss 0.7215656638145447 train acc 0.4375\n",
            "epoch 1 batch id 201 loss 0.7043008208274841 train acc 0.5203669154228856\n",
            "epoch 1 batch id 401 loss 0.45091691613197327 train acc 0.6092581047381546\n",
            "epoch 1 batch id 601 loss 0.4005853533744812 train acc 0.6649334442595674\n",
            "epoch 1 batch id 801 loss 0.5966969728469849 train acc 0.701310861423221\n",
            "epoch 1 batch id 1001 loss 0.401917964220047 train acc 0.7279595404595405\n",
            "epoch 1 batch id 1201 loss 0.5256664752960205 train acc 0.7467995420482931\n",
            "epoch 1 batch id 1401 loss 0.3270328640937805 train acc 0.7610635260528195\n",
            "epoch 1 batch id 1601 loss 0.48829758167266846 train acc 0.7725054653341662\n",
            "epoch 1 batch id 1801 loss 0.4375264048576355 train acc 0.7809203220433093\n",
            "epoch 1 batch id 2001 loss 0.3588522672653198 train acc 0.787699900049975\n",
            "epoch 1 batch id 2201 loss 0.6086718440055847 train acc 0.7943974329850069\n",
            "epoch 1 batch id 2401 loss 0.4533323645591736 train acc 0.7992242815493544\n",
            "epoch 1 batch id 2601 loss 0.1753716915845871 train acc 0.8034650134563629\n",
            "epoch 1 batch id 2801 loss 0.36412903666496277 train acc 0.8073009639414495\n",
            "epoch 1 batch id 3001 loss 0.33946382999420166 train acc 0.8110317394201932\n",
            "epoch 1 batch id 3201 loss 0.23807235062122345 train acc 0.8142084504842236\n",
            "epoch 1 batch id 3401 loss 0.4089326560497284 train acc 0.8170942369891209\n",
            "epoch 1 batch id 3601 loss 0.22736404836177826 train acc 0.8200673424048875\n",
            "epoch 1 batch id 3801 loss 0.3545573055744171 train acc 0.8225055906340437\n",
            "epoch 1 batch id 4001 loss 0.19366170465946198 train acc 0.8251296550862285\n",
            "epoch 1 batch id 4201 loss 0.28455936908721924 train acc 0.8273997262556534\n",
            "epoch 1 batch id 4401 loss 0.4222568869590759 train acc 0.8295344807998182\n",
            "epoch 1 batch id 4601 loss 0.20975011587142944 train acc 0.8317213649206694\n",
            "epoch 1 train acc 0.8325245307167235\n"
          ]
        },
        {
          "name": "stderr",
          "output_type": "stream",
          "text": [
            "/tmp/ipykernel_22753/1280546429.py:22: TqdmDeprecationWarning: This function will be removed in tqdm==5.0.0\n",
            "Please use `tqdm.notebook.tqdm` instead of `tqdm.tqdm_notebook`\n",
            "  for batch_id, (token_ids, valid_length, segment_ids, label) in enumerate(tqdm_notebook(test_dataloader)):\n"
          ]
        },
        {
          "data": {
            "application/vnd.jupyter.widget-view+json": {
              "model_id": "9547f2d1e99e4072a58191c6f64d39bb",
              "version_major": 2,
              "version_minor": 0
            },
            "text/plain": [
              "  0%|          | 0/1563 [00:00<?, ?it/s]"
            ]
          },
          "metadata": {},
          "output_type": "display_data"
        },
        {
          "name": "stdout",
          "output_type": "stream",
          "text": [
            "epoch 1 test acc 0.8803582853486884\n"
          ]
        },
        {
          "data": {
            "application/vnd.jupyter.widget-view+json": {
              "model_id": "cd786d88be224d10ac6c778955e16948",
              "version_major": 2,
              "version_minor": 0
            },
            "text/plain": [
              "  0%|          | 0/4688 [00:00<?, ?it/s]"
            ]
          },
          "metadata": {},
          "output_type": "display_data"
        },
        {
          "name": "stdout",
          "output_type": "stream",
          "text": [
            "epoch 2 batch id 1 loss 0.44123369455337524 train acc 0.84375\n",
            "epoch 2 batch id 201 loss 0.24572567641735077 train acc 0.8819962686567164\n",
            "epoch 2 batch id 401 loss 0.40594539046287537 train acc 0.878818578553616\n",
            "epoch 2 batch id 601 loss 0.22601521015167236 train acc 0.8800436772046589\n",
            "epoch 2 batch id 801 loss 0.4432148337364197 train acc 0.8806960049937578\n",
            "epoch 2 batch id 1001 loss 0.3736311197280884 train acc 0.8821491008991009\n",
            "epoch 2 batch id 1201 loss 0.622363269329071 train acc 0.8846273938384679\n",
            "epoch 2 batch id 1401 loss 0.30309611558914185 train acc 0.8853943611705924\n",
            "epoch 2 batch id 1601 loss 0.41941478848457336 train acc 0.8866528732042473\n",
            "epoch 2 batch id 1801 loss 0.29869237542152405 train acc 0.8879962520821766\n",
            "epoch 2 batch id 2001 loss 0.254829078912735 train acc 0.888789980009995\n",
            "epoch 2 batch id 2201 loss 0.35106199979782104 train acc 0.8897518173557474\n",
            "epoch 2 batch id 2401 loss 0.3520711362361908 train acc 0.8907096001665973\n",
            "epoch 2 batch id 2601 loss 0.10994528234004974 train acc 0.8916162053056517\n",
            "epoch 2 batch id 2801 loss 0.07495535910129547 train acc 0.8926164762584791\n",
            "epoch 2 batch id 3001 loss 0.2538336515426636 train acc 0.8938270576474509\n",
            "epoch 2 batch id 3201 loss 0.3014151453971863 train acc 0.8947692127460168\n",
            "epoch 2 batch id 3401 loss 0.45773717761039734 train acc 0.8957383857688915\n",
            "epoch 2 batch id 3601 loss 0.11067792773246765 train acc 0.8967734657039711\n",
            "epoch 2 batch id 3801 loss 0.2811802625656128 train acc 0.8974036437779531\n",
            "epoch 2 batch id 4001 loss 0.10177424550056458 train acc 0.898400399900025\n",
            "epoch 2 batch id 4201 loss 0.16974173486232758 train acc 0.8993915139252558\n",
            "epoch 2 batch id 4401 loss 0.3036746680736542 train acc 0.900228641217905\n",
            "epoch 2 batch id 4601 loss 0.19934214651584625 train acc 0.9012850467289719\n",
            "epoch 2 train acc 0.90167715443686\n"
          ]
        },
        {
          "data": {
            "application/vnd.jupyter.widget-view+json": {
              "model_id": "c6eee8b640c447e199979aeed9558c55",
              "version_major": 2,
              "version_minor": 0
            },
            "text/plain": [
              "  0%|          | 0/1563 [00:00<?, ?it/s]"
            ]
          },
          "metadata": {},
          "output_type": "display_data"
        },
        {
          "name": "stdout",
          "output_type": "stream",
          "text": [
            "epoch 2 test acc 0.8887755918106206\n"
          ]
        },
        {
          "data": {
            "application/vnd.jupyter.widget-view+json": {
              "model_id": "96a18cc627344236a6a777cdce99d1ac",
              "version_major": 2,
              "version_minor": 0
            },
            "text/plain": [
              "  0%|          | 0/4688 [00:00<?, ?it/s]"
            ]
          },
          "metadata": {},
          "output_type": "display_data"
        },
        {
          "name": "stdout",
          "output_type": "stream",
          "text": [
            "epoch 3 batch id 1 loss 0.36082300543785095 train acc 0.8125\n",
            "epoch 3 batch id 201 loss 0.18591701984405518 train acc 0.9193097014925373\n",
            "epoch 3 batch id 401 loss 0.1779244989156723 train acc 0.9174719451371571\n",
            "epoch 3 batch id 601 loss 0.10218397527933121 train acc 0.9202371048252912\n",
            "epoch 3 batch id 801 loss 0.22631022334098816 train acc 0.9215433832709113\n",
            "epoch 3 batch id 1001 loss 0.26383712887763977 train acc 0.9223901098901099\n",
            "epoch 3 batch id 1201 loss 0.5360328555107117 train acc 0.9237354288093256\n",
            "epoch 3 batch id 1401 loss 0.276740700006485 train acc 0.9248973947180585\n",
            "epoch 3 batch id 1601 loss 0.34277480840682983 train acc 0.9257300124921923\n",
            "epoch 3 batch id 1801 loss 0.2459123581647873 train acc 0.9270370627429206\n",
            "epoch 3 batch id 2001 loss 0.22213375568389893 train acc 0.9280203648175912\n",
            "epoch 3 batch id 2201 loss 0.27530744671821594 train acc 0.9290947296683326\n",
            "epoch 3 batch id 2401 loss 0.11548994481563568 train acc 0.9302504164931279\n",
            "epoch 3 batch id 2601 loss 0.08049806207418442 train acc 0.930819876970396\n",
            "epoch 3 batch id 2801 loss 0.03002605400979519 train acc 0.9315088361299536\n",
            "epoch 3 batch id 3001 loss 0.20490805804729462 train acc 0.9323975341552816\n",
            "epoch 3 batch id 3201 loss 0.154012069106102 train acc 0.9334094814120587\n",
            "epoch 3 batch id 3401 loss 0.11465850472450256 train acc 0.934421861217289\n",
            "epoch 3 batch id 3601 loss 0.033194880932569504 train acc 0.9353044293251874\n",
            "epoch 3 batch id 3801 loss 0.209151491522789 train acc 0.9362832149434359\n",
            "epoch 3 batch id 4001 loss 0.037759602069854736 train acc 0.937257873031742\n",
            "epoch 3 batch id 4201 loss 0.020118186250329018 train acc 0.9377826707926684\n",
            "epoch 3 batch id 4401 loss 0.2643747627735138 train acc 0.9381674619404681\n",
            "epoch 3 batch id 4601 loss 0.13247045874595642 train acc 0.9386750163008042\n",
            "epoch 3 train acc 0.9390731655290102\n"
          ]
        },
        {
          "data": {
            "application/vnd.jupyter.widget-view+json": {
              "model_id": "3ea33bec5ba445c7a4f8a1d14c2707cb",
              "version_major": 2,
              "version_minor": 0
            },
            "text/plain": [
              "  0%|          | 0/1563 [00:00<?, ?it/s]"
            ]
          },
          "metadata": {},
          "output_type": "display_data"
        },
        {
          "name": "stdout",
          "output_type": "stream",
          "text": [
            "epoch 3 test acc 0.8933141394753679\n"
          ]
        },
        {
          "data": {
            "application/vnd.jupyter.widget-view+json": {
              "model_id": "67e5e4a59aab4e4c8e7b630f39c04f22",
              "version_major": 2,
              "version_minor": 0
            },
            "text/plain": [
              "  0%|          | 0/4688 [00:00<?, ?it/s]"
            ]
          },
          "metadata": {},
          "output_type": "display_data"
        },
        {
          "name": "stdout",
          "output_type": "stream",
          "text": [
            "epoch 4 batch id 1 loss 0.24563314020633698 train acc 0.875\n",
            "epoch 4 batch id 201 loss 0.14017659425735474 train acc 0.9533582089552238\n",
            "epoch 4 batch id 401 loss 0.11824772506952286 train acc 0.9534756857855362\n",
            "epoch 4 batch id 601 loss 0.026657069101929665 train acc 0.9541389351081531\n",
            "epoch 4 batch id 801 loss 0.19702458381652832 train acc 0.954939138576779\n",
            "epoch 4 batch id 1001 loss 0.0860271081328392 train acc 0.9553259240759241\n",
            "epoch 4 batch id 1201 loss 0.6719815135002136 train acc 0.9562083680266444\n",
            "epoch 4 batch id 1401 loss 0.22917766869068146 train acc 0.9568165596002856\n",
            "epoch 4 batch id 1601 loss 0.285453200340271 train acc 0.9571752029981262\n",
            "epoch 4 batch id 1801 loss 0.28414711356163025 train acc 0.957870627429206\n",
            "epoch 4 batch id 2001 loss 0.1579519808292389 train acc 0.9587549975012494\n",
            "epoch 4 batch id 2201 loss 0.2046455591917038 train acc 0.9591946842344389\n",
            "epoch 4 batch id 2401 loss 0.09335702657699585 train acc 0.9598344439816743\n",
            "epoch 4 batch id 2601 loss 0.005824287887662649 train acc 0.9603397731641676\n",
            "epoch 4 batch id 2801 loss 0.010662601329386234 train acc 0.9607840949660835\n",
            "epoch 4 batch id 3001 loss 0.08231784403324127 train acc 0.9611796067977341\n",
            "epoch 4 batch id 3201 loss 0.07837849110364914 train acc 0.961877147766323\n",
            "epoch 4 batch id 3401 loss 0.09160902351140976 train acc 0.9627407380182299\n",
            "epoch 4 batch id 3601 loss 0.010646258480846882 train acc 0.9631439183560122\n",
            "epoch 4 batch id 3801 loss 0.087115578353405 train acc 0.9635868850302552\n",
            "epoch 4 batch id 4001 loss 0.01269418653100729 train acc 0.9640792926768308\n",
            "epoch 4 batch id 4201 loss 0.009184803813695908 train acc 0.9642495834325161\n",
            "epoch 4 batch id 4401 loss 0.25029483437538147 train acc 0.9645109066121336\n",
            "epoch 4 batch id 4601 loss 0.019245924428105354 train acc 0.9648581830036949\n",
            "epoch 4 train acc 0.9650703924914675\n"
          ]
        },
        {
          "data": {
            "application/vnd.jupyter.widget-view+json": {
              "model_id": "155dd1d09b8044e281a1eace1bf9b30f",
              "version_major": 2,
              "version_minor": 0
            },
            "text/plain": [
              "  0%|          | 0/1563 [00:00<?, ?it/s]"
            ]
          },
          "metadata": {},
          "output_type": "display_data"
        },
        {
          "name": "stdout",
          "output_type": "stream",
          "text": [
            "epoch 4 test acc 0.8956733845169546\n"
          ]
        },
        {
          "data": {
            "application/vnd.jupyter.widget-view+json": {
              "model_id": "9bd6777d52014d16b736be0080f0e7db",
              "version_major": 2,
              "version_minor": 0
            },
            "text/plain": [
              "  0%|          | 0/4688 [00:00<?, ?it/s]"
            ]
          },
          "metadata": {},
          "output_type": "display_data"
        },
        {
          "name": "stdout",
          "output_type": "stream",
          "text": [
            "epoch 5 batch id 1 loss 0.4938872754573822 train acc 0.84375\n",
            "epoch 5 batch id 201 loss 0.03021354414522648 train acc 0.972636815920398\n",
            "epoch 5 batch id 401 loss 0.11897013336420059 train acc 0.9735037406483791\n",
            "epoch 5 batch id 601 loss 0.011960766278207302 train acc 0.9744696339434277\n",
            "epoch 5 batch id 801 loss 0.08929017931222916 train acc 0.9748361423220974\n",
            "epoch 5 batch id 1001 loss 0.013419167138636112 train acc 0.9743693806193806\n",
            "epoch 5 batch id 1201 loss 0.4733012914657593 train acc 0.9743442964196503\n",
            "epoch 5 batch id 1401 loss 0.11880923807621002 train acc 0.9749286224125625\n",
            "epoch 5 batch id 1601 loss 0.10578501224517822 train acc 0.9751717676452217\n",
            "epoch 5 batch id 1801 loss 0.20203867554664612 train acc 0.9752568017767906\n",
            "epoch 5 batch id 2001 loss 0.09572886675596237 train acc 0.9757777361319341\n",
            "epoch 5 batch id 2201 loss 0.20463095605373383 train acc 0.9760478191731031\n",
            "epoch 5 batch id 2401 loss 0.0053940205834805965 train acc 0.9763509995835069\n",
            "epoch 5 batch id 2601 loss 0.004163555800914764 train acc 0.9765234525182622\n",
            "epoch 5 batch id 2801 loss 0.0040369788184762 train acc 0.9767716886826133\n",
            "epoch 5 batch id 3001 loss 0.006187780294567347 train acc 0.9768098133955349\n",
            "epoch 5 batch id 3201 loss 0.019185781478881836 train acc 0.9771262886597938\n",
            "epoch 5 batch id 3401 loss 0.17704974114894867 train acc 0.9773320346956778\n",
            "epoch 5 batch id 3601 loss 0.004642126150429249 train acc 0.9776017078589281\n",
            "epoch 5 batch id 3801 loss 0.05972835049033165 train acc 0.9778265588003157\n",
            "epoch 5 batch id 4001 loss 0.008602766320109367 train acc 0.9780054986253437\n",
            "epoch 5 batch id 4201 loss 0.006148478947579861 train acc 0.9779814329921447\n",
            "epoch 5 batch id 4401 loss 0.03670944646000862 train acc 0.9780376618950238\n",
            "epoch 5 batch id 4601 loss 0.007842980325222015 train acc 0.9782044664203434\n",
            "epoch 5 train acc 0.9782756505972696\n"
          ]
        },
        {
          "data": {
            "application/vnd.jupyter.widget-view+json": {
              "model_id": "a56d2e828da34028bc703f491e3ff7dc",
              "version_major": 2,
              "version_minor": 0
            },
            "text/plain": [
              "  0%|          | 0/1563 [00:00<?, ?it/s]"
            ]
          },
          "metadata": {},
          "output_type": "display_data"
        },
        {
          "name": "stdout",
          "output_type": "stream",
          "text": [
            "epoch 5 test acc 0.8967530390275112\n"
          ]
        }
      ],
      "source": [
        "for e in range(num_epochs):\n",
        "    train_acc = 0.0\n",
        "    test_acc = 0.0\n",
        "    model.train()\n",
        "    for batch_id, (token_ids, valid_length, segment_ids, label) in enumerate(tqdm_notebook(train_dataloader)):\n",
        "        optimizer.zero_grad()\n",
        "        token_ids = token_ids.long().to(device)\n",
        "        segment_ids = segment_ids.long().to(device)\n",
        "        valid_length= valid_length\n",
        "        label = label.long().to(device)\n",
        "        out = model(token_ids, valid_length, segment_ids)\n",
        "        loss = loss_fn(out, label)\n",
        "        loss.backward()\n",
        "        torch.nn.utils.clip_grad_norm_(model.parameters(), max_grad_norm)\n",
        "        optimizer.step()\n",
        "        scheduler.step()  # Update learning rate schedule\n",
        "        train_acc += calc_accuracy(out, label)\n",
        "        if batch_id % log_interval == 0:\n",
        "            print(\"epoch {} batch id {} loss {} train acc {}\".format(e+1, batch_id+1, loss.data.cpu().numpy(), train_acc / (batch_id+1)))\n",
        "    print(\"epoch {} train acc {}\".format(e+1, train_acc / (batch_id+1)))\n",
        "    model.eval()\n",
        "    for batch_id, (token_ids, valid_length, segment_ids, label) in enumerate(tqdm_notebook(test_dataloader)):\n",
        "        token_ids = token_ids.long().to(device)\n",
        "        segment_ids = segment_ids.long().to(device)\n",
        "        valid_length= valid_length\n",
        "        label = label.long().to(device)\n",
        "        out = model(token_ids, valid_length, segment_ids)\n",
        "        test_acc += calc_accuracy(out, label)\n",
        "    print(\"epoch {} test acc {}\".format(e+1, test_acc / (batch_id+1)))"
      ]
    },
    {
      "cell_type": "code",
      "execution_count": 23,
      "metadata": {},
      "outputs": [],
      "source": [
        "torch.save(model, '/home/mglee/VSCODE/git_folder/BERT/Sentiment/KoBERT_Sentiment_e5_221018.pt')  # 전체 모델 저장\n",
        "torch.save(model.state_dict(), '/home/mglee/VSCODE/git_folder/BERT/Sentiment/Kobert_Sentiment_e5_state_dict_221018.pt')  # 모델 객체의 state_dict 저장\n",
        "torch.save({\n",
        "    'model': model.state_dict(),\n",
        "    'optimizer': optimizer.state_dict()\n",
        "}, '/home/mglee/VSCODE/git_folder/BERT/Sentiment/Kobert_Sentiment_all.tar') "
      ]
    },
    {
      "cell_type": "code",
      "execution_count": null,
      "metadata": {},
      "outputs": [],
      "source": [
        "PATH = '../result/kobert/'\n",
        "\n",
        "pred_model = torch.load(PATH + 'KoBERT_0705_e15_py.pt')  # 전체 모델을 통째로 불러옴, 클래스 선언 필수\n",
        "# pred_model.load_state_dict(torch.load(PATH + 'Kobert_0627_py_state_dict.pt'))  # state_dict를 불러 온 후, 모델에 저장\n",
        "\n",
        "# checkpoint = torch.load(PATH + 'all.tar')   # dict 불러오기\n",
        "# pred_model.load_state_dict(checkpoint['model'])\n",
        "#optimizer.load_state_dict(checkpoint['optimizer'])"
      ]
    },
    {
      "cell_type": "markdown",
      "metadata": {},
      "source": [
        "### TEST DATA"
      ]
    },
    {
      "cell_type": "code",
      "execution_count": 79,
      "metadata": {},
      "outputs": [],
      "source": [
        "import pandas as pd\n",
        "\n",
        "posco = pd.read_csv(\"../../naver_comments/result/posco_token.csv\")"
      ]
    },
    {
      "cell_type": "code",
      "execution_count": 104,
      "metadata": {},
      "outputs": [],
      "source": [
        "test = posco.loc[:,['comment']]"
      ]
    },
    {
      "cell_type": "code",
      "execution_count": 105,
      "metadata": {},
      "outputs": [],
      "source": [
        "test['label'] = 0"
      ]
    },
    {
      "cell_type": "code",
      "execution_count": 106,
      "metadata": {},
      "outputs": [
        {
          "data": {
            "text/html": [
              "<div>\n",
              "<style scoped>\n",
              "    .dataframe tbody tr th:only-of-type {\n",
              "        vertical-align: middle;\n",
              "    }\n",
              "\n",
              "    .dataframe tbody tr th {\n",
              "        vertical-align: top;\n",
              "    }\n",
              "\n",
              "    .dataframe thead th {\n",
              "        text-align: right;\n",
              "    }\n",
              "</style>\n",
              "<table border=\"1\" class=\"dataframe\">\n",
              "  <thead>\n",
              "    <tr style=\"text-align: right;\">\n",
              "      <th></th>\n",
              "      <th>comment</th>\n",
              "      <th>label</th>\n",
              "    </tr>\n",
              "  </thead>\n",
              "  <tbody>\n",
              "    <tr>\n",
              "      <th>0</th>\n",
              "      <td>\"즈그말은 그렇지만 현장분위기는 완전 틀리던디\"</td>\n",
              "      <td>0</td>\n",
              "    </tr>\n",
              "    <tr>\n",
              "      <th>1</th>\n",
              "      <td>\"포스코 화이팅 !! 가즈아\"</td>\n",
              "      <td>0</td>\n",
              "    </tr>\n",
              "    <tr>\n",
              "      <th>2</th>\n",
              "      <td>\"또 거짓말 . 언플할 시간에 복구에 집중해라\"</td>\n",
              "      <td>0</td>\n",
              "    </tr>\n",
              "    <tr>\n",
              "      <th>3</th>\n",
              "      <td>\"이 기회에 중간유통 마진이랑 업체들 정리 하시고\\n스틸트레이드 같은 형식의 플랫폼...</td>\n",
              "      <td>0</td>\n",
              "    </tr>\n",
              "    <tr>\n",
              "      <th>4</th>\n",
              "      <td>\"역대 최악 최정우 되고 나서 재해사고\\n엄청 났지..그냥 너는 포스코랑 안 맞다\\...</td>\n",
              "      <td>0</td>\n",
              "    </tr>\n",
              "    <tr>\n",
              "      <th>...</th>\n",
              "      <td>...</td>\n",
              "      <td>...</td>\n",
              "    </tr>\n",
              "    <tr>\n",
              "      <th>13506</th>\n",
              "      <td>\"아~~자정까지 기다렸네...태풍구경할라구~~~\"</td>\n",
              "      <td>0</td>\n",
              "    </tr>\n",
              "    <tr>\n",
              "      <th>13507</th>\n",
              "      <td>\"방송만 난리부르스고  수도권은 느낌도 안나네\"</td>\n",
              "      <td>0</td>\n",
              "    </tr>\n",
              "    <tr>\n",
              "      <th>13508</th>\n",
              "      <td>\"삼성은 전자만\"</td>\n",
              "      <td>0</td>\n",
              "    </tr>\n",
              "    <tr>\n",
              "      <th>13509</th>\n",
              "      <td>\"그냥 일해라 태풍이 뭐시라고 겁먹노  귀가찬다.\"</td>\n",
              "      <td>0</td>\n",
              "    </tr>\n",
              "    <tr>\n",
              "      <th>13510</th>\n",
              "      <td>\"김건희 특검 윤석열 퇴진!\"</td>\n",
              "      <td>0</td>\n",
              "    </tr>\n",
              "  </tbody>\n",
              "</table>\n",
              "<p>13511 rows × 2 columns</p>\n",
              "</div>"
            ],
            "text/plain": [
              "                                                 comment  label\n",
              "0                             \"즈그말은 그렇지만 현장분위기는 완전 틀리던디\"      0\n",
              "1                                       \"포스코 화이팅 !! 가즈아\"      0\n",
              "2                             \"또 거짓말 . 언플할 시간에 복구에 집중해라\"      0\n",
              "3      \"이 기회에 중간유통 마진이랑 업체들 정리 하시고\\n스틸트레이드 같은 형식의 플랫폼...      0\n",
              "4      \"역대 최악 최정우 되고 나서 재해사고\\n엄청 났지..그냥 너는 포스코랑 안 맞다\\...      0\n",
              "...                                                  ...    ...\n",
              "13506                        \"아~~자정까지 기다렸네...태풍구경할라구~~~\"      0\n",
              "13507                         \"방송만 난리부르스고  수도권은 느낌도 안나네\"      0\n",
              "13508                                          \"삼성은 전자만\"      0\n",
              "13509                       \"그냥 일해라 태풍이 뭐시라고 겁먹노  귀가찬다.\"      0\n",
              "13510                                   \"김건희 특검 윤석열 퇴진!\"      0\n",
              "\n",
              "[13511 rows x 2 columns]"
            ]
          },
          "execution_count": 106,
          "metadata": {},
          "output_type": "execute_result"
        }
      ],
      "source": [
        "test"
      ]
    },
    {
      "cell_type": "code",
      "execution_count": 107,
      "metadata": {},
      "outputs": [],
      "source": [
        "class BERTDataset_test(Dataset):\n",
        "    def __init__(self, dataset,bert_tokenizer, max_len,\n",
        "                 pad, pair):\n",
        "        transform = nlp.data.BERTSentenceTransform(\n",
        "            bert_tokenizer, max_seq_length=max_len, pad=pad, pair=pair)\n",
        "\n",
        "        self.sentences = [transform([\" \".join(str(dataset.iloc[i]['comment']))]) for i in range(len(dataset))]\n",
        "        self.labels = [np.int32(dataset.iloc[i]['label']) for i in range(len(dataset))]\n",
        "\n",
        "    def __getitem__(self, i):\n",
        "        return (self.sentences[i] + (self.labels[i], ))\n",
        "\n",
        "    def __len__(self):\n",
        "        return (len(self.labels))\n",
        "\n"
      ]
    },
    {
      "cell_type": "code",
      "execution_count": 108,
      "metadata": {},
      "outputs": [],
      "source": [
        "comment_test = BERTDataset_test(test, tok, max_len, True, False)"
      ]
    },
    {
      "cell_type": "code",
      "execution_count": 109,
      "metadata": {},
      "outputs": [
        {
          "data": {
            "text/plain": [
              "<__main__.BERTDataset_test at 0x7f65d9614af0>"
            ]
          },
          "execution_count": 109,
          "metadata": {},
          "output_type": "execute_result"
        }
      ],
      "source": [
        "comment_test"
      ]
    },
    {
      "cell_type": "code",
      "execution_count": 110,
      "metadata": {},
      "outputs": [],
      "source": [
        "pred_dataloader = torch.utils.data.DataLoader(comment_test, batch_size = batch_size, num_workers = 8)"
      ]
    },
    {
      "cell_type": "code",
      "execution_count": 114,
      "metadata": {},
      "outputs": [
        {
          "name": "stdout",
          "output_type": "stream",
          "text": [
            "Data:  [tensor([[   2,  518,  517,  ...,    1,    1,    1],\n",
            "        [   2,  518, 4856,  ...,    1,    1,    1],\n",
            "        [   2,  518, 1861,  ...,    1,    1,    1],\n",
            "        ...,\n",
            "        [   2,  518, 3552,  ...,    1,    1,    1],\n",
            "        [   2,  518, 4457,  ...,    0,  517,    3],\n",
            "        [   2,  518, 2718,  ..., 3758, 1562,    3]], dtype=torch.int32), tensor([29, 20, 26, 64, 60, 18, 17, 64, 23, 45, 64, 35, 64, 28, 35, 40, 17, 64,\n",
            "        64, 35, 42, 28, 64, 59, 64, 35, 24, 20, 64, 17, 17, 34, 64, 64, 64, 29,\n",
            "        64, 64, 61, 64, 52, 29, 64, 64, 13, 64, 64, 21, 30, 23, 64, 34,  7,  8,\n",
            "        17, 47, 64, 64, 61, 64, 52, 29, 64, 64], dtype=torch.int32), tensor([[0, 0, 0,  ..., 0, 0, 0],\n",
            "        [0, 0, 0,  ..., 0, 0, 0],\n",
            "        [0, 0, 0,  ..., 0, 0, 0],\n",
            "        ...,\n",
            "        [0, 0, 0,  ..., 0, 0, 0],\n",
            "        [0, 0, 0,  ..., 0, 0, 0],\n",
            "        [0, 0, 0,  ..., 0, 0, 0]], dtype=torch.int32), tensor([0, 0, 0, 0, 0, 0, 0, 0, 0, 0, 0, 0, 0, 0, 0, 0, 0, 0, 0, 0, 0, 0, 0, 0,\n",
            "        0, 0, 0, 0, 0, 0, 0, 0, 0, 0, 0, 0, 0, 0, 0, 0, 0, 0, 0, 0, 0, 0, 0, 0,\n",
            "        0, 0, 0, 0, 0, 0, 0, 0, 0, 0, 0, 0, 0, 0, 0, 0], dtype=torch.int32)]\n",
            "Waveform: tensor([[   2,  518,  517,  ...,    1,    1,    1],\n",
            "        [   2,  518, 4856,  ...,    1,    1,    1],\n",
            "        [   2,  518, 1861,  ...,    1,    1,    1],\n",
            "        ...,\n",
            "        [   2,  518, 3552,  ...,    1,    1,    1],\n",
            "        [   2,  518, 4457,  ...,    0,  517,    3],\n",
            "        [   2,  518, 2718,  ..., 3758, 1562,    3]], dtype=torch.int32)\n",
            "Sample rate: tensor([29, 20, 26, 64, 60, 18, 17, 64, 23, 45, 64, 35, 64, 28, 35, 40, 17, 64,\n",
            "        64, 35, 42, 28, 64, 59, 64, 35, 24, 20, 64, 17, 17, 34, 64, 64, 64, 29,\n",
            "        64, 64, 61, 64, 52, 29, 64, 64, 13, 64, 64, 21, 30, 23, 64, 34,  7,  8,\n",
            "        17, 47, 64, 64, 61, 64, 52, 29, 64, 64], dtype=torch.int32)\n",
            "Labels: tensor([[0, 0, 0,  ..., 0, 0, 0],\n",
            "        [0, 0, 0,  ..., 0, 0, 0],\n",
            "        [0, 0, 0,  ..., 0, 0, 0],\n",
            "        ...,\n",
            "        [0, 0, 0,  ..., 0, 0, 0],\n",
            "        [0, 0, 0,  ..., 0, 0, 0],\n",
            "        [0, 0, 0,  ..., 0, 0, 0]], dtype=torch.int32)\n"
          ]
        }
      ],
      "source": [
        "for data in pred_dataloader:\n",
        "  print(\"Data: \", data)\n",
        "  print(\"Waveform: {}\\nSample rate: {}\\nLabels: {}\".format(data[0], data[1], data[2]))\n",
        "  break"
      ]
    },
    {
      "cell_type": "code",
      "execution_count": 115,
      "metadata": {},
      "outputs": [
        {
          "name": "stderr",
          "output_type": "stream",
          "text": [
            "100%|██████████| 212/212 [00:08<00:00, 24.51it/s]\n"
          ]
        }
      ],
      "source": [
        "out_lst = []\n",
        "\n",
        "for batch_id, (token_ids, valid_length, segment_ids, label) in enumerate(tqdm(pred_dataloader)):\n",
        "    token_ids = token_ids.long().to(device)\n",
        "    segment_ids = segment_ids.long().to(device)\n",
        "    valid_length= valid_length\n",
        "    label = label.long().to(device)\n",
        "    out = model(token_ids, valid_length, segment_ids)\n",
        "    out_lst.append(out.data.cpu())\n",
        "    max_vals, max_indices = torch.max(out, 1)"
      ]
    },
    {
      "cell_type": "code",
      "execution_count": 132,
      "metadata": {},
      "outputs": [],
      "source": [
        "pred = []\n",
        "for batch in out_lst:\n",
        "    for item in batch:\n",
        "        pred.append(np.argmax(item.numpy()))"
      ]
    },
    {
      "cell_type": "code",
      "execution_count": 135,
      "metadata": {},
      "outputs": [],
      "source": [
        "test['label'] = pred"
      ]
    },
    {
      "cell_type": "code",
      "execution_count": 145,
      "metadata": {},
      "outputs": [],
      "source": [
        "posco['sentiment'] = pred"
      ]
    },
    {
      "cell_type": "code",
      "execution_count": 149,
      "metadata": {},
      "outputs": [
        {
          "data": {
            "text/plain": [
              "sentiment\n",
              "0    11930\n",
              "1     1581\n",
              "dtype: int64"
            ]
          },
          "execution_count": 149,
          "metadata": {},
          "output_type": "execute_result"
        }
      ],
      "source": [
        "posco.groupby('sentiment').size()"
      ]
    },
    {
      "cell_type": "code",
      "execution_count": 148,
      "metadata": {},
      "outputs": [],
      "source": [
        "posco.to_csv(\"../../naver_comments/result/naver_POSCO_sentiment.csv\")"
      ]
    }
  ],
  "metadata": {
    "accelerator": "GPU",
    "colab": {
      "collapsed_sections": [],
      "name": "Naver Review Classification using Pytorch KoBERT (SKTBrain)",
      "provenance": []
    },
    "kernelspec": {
      "display_name": "Python 3.8.12 ('save')",
      "language": "python",
      "name": "python3"
    },
    "language_info": {
      "codemirror_mode": {
        "name": "ipython",
        "version": 3
      },
      "file_extension": ".py",
      "mimetype": "text/x-python",
      "name": "python",
      "nbconvert_exporter": "python",
      "pygments_lexer": "ipython3",
      "version": "3.8.12"
    },
    "vscode": {
      "interpreter": {
        "hash": "6632c70ce360d611e847e5318887868e2366d56c00e5f501b5a0b067a934dfe7"
      }
    },
    "widgets": {
      "application/vnd.jupyter.widget-state+json": {
        "041f7c2f3fa04517a7bbb69db82a3ca4": {
          "model_module": "@jupyter-widgets/controls",
          "model_name": "HBoxModel",
          "state": {
            "_dom_classes": [],
            "_model_module": "@jupyter-widgets/controls",
            "_model_module_version": "1.5.0",
            "_model_name": "HBoxModel",
            "_view_count": null,
            "_view_module": "@jupyter-widgets/controls",
            "_view_module_version": "1.5.0",
            "_view_name": "HBoxView",
            "box_style": "",
            "children": [
              "IPY_MODEL_51b06dd9f1c7491da968a637121faf4f",
              "IPY_MODEL_f53c78e1da2645d5986284d866fb7688"
            ],
            "layout": "IPY_MODEL_17f77deddbcc4d79a4346483d407c143"
          }
        },
        "0ae31d6bf3ef42b1b2e04b3a0e398bc7": {
          "model_module": "@jupyter-widgets/controls",
          "model_name": "HTMLModel",
          "state": {
            "_dom_classes": [],
            "_model_module": "@jupyter-widgets/controls",
            "_model_module_version": "1.5.0",
            "_model_name": "HTMLModel",
            "_view_count": null,
            "_view_module": "@jupyter-widgets/controls",
            "_view_module_version": "1.5.0",
            "_view_name": "HTMLView",
            "description": "",
            "description_tooltip": null,
            "layout": "IPY_MODEL_abc71404571e48c9ad5f156cd07fa946",
            "placeholder": "​",
            "style": "IPY_MODEL_6aa89407a6a5469cb4c0e7b3fa6648e4",
            "value": " 2344/2344 [29:19&lt;00:00,  1.33it/s]"
          }
        },
        "0df68f720ffa48f69d3e7f603fe2e905": {
          "model_module": "@jupyter-widgets/controls",
          "model_name": "FloatProgressModel",
          "state": {
            "_dom_classes": [],
            "_model_module": "@jupyter-widgets/controls",
            "_model_module_version": "1.5.0",
            "_model_name": "FloatProgressModel",
            "_view_count": null,
            "_view_module": "@jupyter-widgets/controls",
            "_view_module_version": "1.5.0",
            "_view_name": "ProgressView",
            "bar_style": "success",
            "description": "100%",
            "description_tooltip": null,
            "layout": "IPY_MODEL_fe24464c2377420ba2c51c5c7d368d53",
            "max": 2344,
            "min": 0,
            "orientation": "horizontal",
            "style": "IPY_MODEL_0e208985afe9457c93d26a300450cee7",
            "value": 2344
          }
        },
        "0e208985afe9457c93d26a300450cee7": {
          "model_module": "@jupyter-widgets/controls",
          "model_name": "ProgressStyleModel",
          "state": {
            "_model_module": "@jupyter-widgets/controls",
            "_model_module_version": "1.5.0",
            "_model_name": "ProgressStyleModel",
            "_view_count": null,
            "_view_module": "@jupyter-widgets/base",
            "_view_module_version": "1.2.0",
            "_view_name": "StyleView",
            "bar_color": null,
            "description_width": "initial"
          }
        },
        "11090fc76db3463f81088d2ab3a1d631": {
          "model_module": "@jupyter-widgets/controls",
          "model_name": "HBoxModel",
          "state": {
            "_dom_classes": [],
            "_model_module": "@jupyter-widgets/controls",
            "_model_module_version": "1.5.0",
            "_model_name": "HBoxModel",
            "_view_count": null,
            "_view_module": "@jupyter-widgets/controls",
            "_view_module_version": "1.5.0",
            "_view_name": "HBoxView",
            "box_style": "",
            "children": [
              "IPY_MODEL_0df68f720ffa48f69d3e7f603fe2e905",
              "IPY_MODEL_daf7eab4eec4494d88f492c0b32d64e5"
            ],
            "layout": "IPY_MODEL_f6e63c8a254d43eca85076ac71c36c46"
          }
        },
        "111b8510b9284f619ec7bb546786c789": {
          "model_module": "@jupyter-widgets/base",
          "model_name": "LayoutModel",
          "state": {
            "_model_module": "@jupyter-widgets/base",
            "_model_module_version": "1.2.0",
            "_model_name": "LayoutModel",
            "_view_count": null,
            "_view_module": "@jupyter-widgets/base",
            "_view_module_version": "1.2.0",
            "_view_name": "LayoutView",
            "align_content": null,
            "align_items": null,
            "align_self": null,
            "border": null,
            "bottom": null,
            "display": null,
            "flex": null,
            "flex_flow": null,
            "grid_area": null,
            "grid_auto_columns": null,
            "grid_auto_flow": null,
            "grid_auto_rows": null,
            "grid_column": null,
            "grid_gap": null,
            "grid_row": null,
            "grid_template_areas": null,
            "grid_template_columns": null,
            "grid_template_rows": null,
            "height": null,
            "justify_content": null,
            "justify_items": null,
            "left": null,
            "margin": null,
            "max_height": null,
            "max_width": null,
            "min_height": null,
            "min_width": null,
            "object_fit": null,
            "object_position": null,
            "order": null,
            "overflow": null,
            "overflow_x": null,
            "overflow_y": null,
            "padding": null,
            "right": null,
            "top": null,
            "visibility": null,
            "width": null
          }
        },
        "17f77deddbcc4d79a4346483d407c143": {
          "model_module": "@jupyter-widgets/base",
          "model_name": "LayoutModel",
          "state": {
            "_model_module": "@jupyter-widgets/base",
            "_model_module_version": "1.2.0",
            "_model_name": "LayoutModel",
            "_view_count": null,
            "_view_module": "@jupyter-widgets/base",
            "_view_module_version": "1.2.0",
            "_view_name": "LayoutView",
            "align_content": null,
            "align_items": null,
            "align_self": null,
            "border": null,
            "bottom": null,
            "display": null,
            "flex": null,
            "flex_flow": null,
            "grid_area": null,
            "grid_auto_columns": null,
            "grid_auto_flow": null,
            "grid_auto_rows": null,
            "grid_column": null,
            "grid_gap": null,
            "grid_row": null,
            "grid_template_areas": null,
            "grid_template_columns": null,
            "grid_template_rows": null,
            "height": null,
            "justify_content": null,
            "justify_items": null,
            "left": null,
            "margin": null,
            "max_height": null,
            "max_width": null,
            "min_height": null,
            "min_width": null,
            "object_fit": null,
            "object_position": null,
            "order": null,
            "overflow": null,
            "overflow_x": null,
            "overflow_y": null,
            "padding": null,
            "right": null,
            "top": null,
            "visibility": null,
            "width": null
          }
        },
        "24c8cd627f754cc1bef0950596417573": {
          "model_module": "@jupyter-widgets/base",
          "model_name": "LayoutModel",
          "state": {
            "_model_module": "@jupyter-widgets/base",
            "_model_module_version": "1.2.0",
            "_model_name": "LayoutModel",
            "_view_count": null,
            "_view_module": "@jupyter-widgets/base",
            "_view_module_version": "1.2.0",
            "_view_name": "LayoutView",
            "align_content": null,
            "align_items": null,
            "align_self": null,
            "border": null,
            "bottom": null,
            "display": null,
            "flex": null,
            "flex_flow": null,
            "grid_area": null,
            "grid_auto_columns": null,
            "grid_auto_flow": null,
            "grid_auto_rows": null,
            "grid_column": null,
            "grid_gap": null,
            "grid_row": null,
            "grid_template_areas": null,
            "grid_template_columns": null,
            "grid_template_rows": null,
            "height": null,
            "justify_content": null,
            "justify_items": null,
            "left": null,
            "margin": null,
            "max_height": null,
            "max_width": null,
            "min_height": null,
            "min_width": null,
            "object_fit": null,
            "object_position": null,
            "order": null,
            "overflow": null,
            "overflow_x": null,
            "overflow_y": null,
            "padding": null,
            "right": null,
            "top": null,
            "visibility": null,
            "width": null
          }
        },
        "28864bba65c941bf914b75701688cb1a": {
          "model_module": "@jupyter-widgets/base",
          "model_name": "LayoutModel",
          "state": {
            "_model_module": "@jupyter-widgets/base",
            "_model_module_version": "1.2.0",
            "_model_name": "LayoutModel",
            "_view_count": null,
            "_view_module": "@jupyter-widgets/base",
            "_view_module_version": "1.2.0",
            "_view_name": "LayoutView",
            "align_content": null,
            "align_items": null,
            "align_self": null,
            "border": null,
            "bottom": null,
            "display": null,
            "flex": null,
            "flex_flow": null,
            "grid_area": null,
            "grid_auto_columns": null,
            "grid_auto_flow": null,
            "grid_auto_rows": null,
            "grid_column": null,
            "grid_gap": null,
            "grid_row": null,
            "grid_template_areas": null,
            "grid_template_columns": null,
            "grid_template_rows": null,
            "height": null,
            "justify_content": null,
            "justify_items": null,
            "left": null,
            "margin": null,
            "max_height": null,
            "max_width": null,
            "min_height": null,
            "min_width": null,
            "object_fit": null,
            "object_position": null,
            "order": null,
            "overflow": null,
            "overflow_x": null,
            "overflow_y": null,
            "padding": null,
            "right": null,
            "top": null,
            "visibility": null,
            "width": null
          }
        },
        "2ba2219a51ba4f32bc5a686667d34f77": {
          "model_module": "@jupyter-widgets/controls",
          "model_name": "HBoxModel",
          "state": {
            "_dom_classes": [],
            "_model_module": "@jupyter-widgets/controls",
            "_model_module_version": "1.5.0",
            "_model_name": "HBoxModel",
            "_view_count": null,
            "_view_module": "@jupyter-widgets/controls",
            "_view_module_version": "1.5.0",
            "_view_name": "HBoxView",
            "box_style": "",
            "children": [
              "IPY_MODEL_a587a90fe7364ab9a984ee08d34f2f33",
              "IPY_MODEL_3a78d21cfb0046859bd39c9f913a9577"
            ],
            "layout": "IPY_MODEL_cf41737c53d4455889e7d8545f963c08"
          }
        },
        "3027f8ad64e64a0abaa1aaf4672daff7": {
          "model_module": "@jupyter-widgets/base",
          "model_name": "LayoutModel",
          "state": {
            "_model_module": "@jupyter-widgets/base",
            "_model_module_version": "1.2.0",
            "_model_name": "LayoutModel",
            "_view_count": null,
            "_view_module": "@jupyter-widgets/base",
            "_view_module_version": "1.2.0",
            "_view_name": "LayoutView",
            "align_content": null,
            "align_items": null,
            "align_self": null,
            "border": null,
            "bottom": null,
            "display": null,
            "flex": null,
            "flex_flow": null,
            "grid_area": null,
            "grid_auto_columns": null,
            "grid_auto_flow": null,
            "grid_auto_rows": null,
            "grid_column": null,
            "grid_gap": null,
            "grid_row": null,
            "grid_template_areas": null,
            "grid_template_columns": null,
            "grid_template_rows": null,
            "height": null,
            "justify_content": null,
            "justify_items": null,
            "left": null,
            "margin": null,
            "max_height": null,
            "max_width": null,
            "min_height": null,
            "min_width": null,
            "object_fit": null,
            "object_position": null,
            "order": null,
            "overflow": null,
            "overflow_x": null,
            "overflow_y": null,
            "padding": null,
            "right": null,
            "top": null,
            "visibility": null,
            "width": null
          }
        },
        "3a78d21cfb0046859bd39c9f913a9577": {
          "model_module": "@jupyter-widgets/controls",
          "model_name": "HTMLModel",
          "state": {
            "_dom_classes": [],
            "_model_module": "@jupyter-widgets/controls",
            "_model_module_version": "1.5.0",
            "_model_name": "HTMLModel",
            "_view_count": null,
            "_view_module": "@jupyter-widgets/controls",
            "_view_module_version": "1.5.0",
            "_view_name": "HTMLView",
            "description": "",
            "description_tooltip": null,
            "layout": "IPY_MODEL_f53ed0ea78a5441a9efe684474c867a0",
            "placeholder": "​",
            "style": "IPY_MODEL_6de48ff591b24700ad25b6b716138e2d",
            "value": " 782/782 [08:33&lt;00:00,  1.52it/s]"
          }
        },
        "42621367ed3447c19bcc250799307076": {
          "model_module": "@jupyter-widgets/controls",
          "model_name": "ProgressStyleModel",
          "state": {
            "_model_module": "@jupyter-widgets/controls",
            "_model_module_version": "1.5.0",
            "_model_name": "ProgressStyleModel",
            "_view_count": null,
            "_view_module": "@jupyter-widgets/base",
            "_view_module_version": "1.2.0",
            "_view_name": "StyleView",
            "bar_color": null,
            "description_width": "initial"
          }
        },
        "4784bfcbeac94053a5d66690ae9b526d": {
          "model_module": "@jupyter-widgets/controls",
          "model_name": "DescriptionStyleModel",
          "state": {
            "_model_module": "@jupyter-widgets/controls",
            "_model_module_version": "1.5.0",
            "_model_name": "DescriptionStyleModel",
            "_view_count": null,
            "_view_module": "@jupyter-widgets/base",
            "_view_module_version": "1.2.0",
            "_view_name": "StyleView",
            "description_width": ""
          }
        },
        "494a3af9635243f7bd6e3ef7f83cc4dc": {
          "model_module": "@jupyter-widgets/base",
          "model_name": "LayoutModel",
          "state": {
            "_model_module": "@jupyter-widgets/base",
            "_model_module_version": "1.2.0",
            "_model_name": "LayoutModel",
            "_view_count": null,
            "_view_module": "@jupyter-widgets/base",
            "_view_module_version": "1.2.0",
            "_view_name": "LayoutView",
            "align_content": null,
            "align_items": null,
            "align_self": null,
            "border": null,
            "bottom": null,
            "display": null,
            "flex": null,
            "flex_flow": null,
            "grid_area": null,
            "grid_auto_columns": null,
            "grid_auto_flow": null,
            "grid_auto_rows": null,
            "grid_column": null,
            "grid_gap": null,
            "grid_row": null,
            "grid_template_areas": null,
            "grid_template_columns": null,
            "grid_template_rows": null,
            "height": null,
            "justify_content": null,
            "justify_items": null,
            "left": null,
            "margin": null,
            "max_height": null,
            "max_width": null,
            "min_height": null,
            "min_width": null,
            "object_fit": null,
            "object_position": null,
            "order": null,
            "overflow": null,
            "overflow_x": null,
            "overflow_y": null,
            "padding": null,
            "right": null,
            "top": null,
            "visibility": null,
            "width": null
          }
        },
        "4d26fe7583a74e5ba0f3790b76bc9978": {
          "model_module": "@jupyter-widgets/base",
          "model_name": "LayoutModel",
          "state": {
            "_model_module": "@jupyter-widgets/base",
            "_model_module_version": "1.2.0",
            "_model_name": "LayoutModel",
            "_view_count": null,
            "_view_module": "@jupyter-widgets/base",
            "_view_module_version": "1.2.0",
            "_view_name": "LayoutView",
            "align_content": null,
            "align_items": null,
            "align_self": null,
            "border": null,
            "bottom": null,
            "display": null,
            "flex": null,
            "flex_flow": null,
            "grid_area": null,
            "grid_auto_columns": null,
            "grid_auto_flow": null,
            "grid_auto_rows": null,
            "grid_column": null,
            "grid_gap": null,
            "grid_row": null,
            "grid_template_areas": null,
            "grid_template_columns": null,
            "grid_template_rows": null,
            "height": null,
            "justify_content": null,
            "justify_items": null,
            "left": null,
            "margin": null,
            "max_height": null,
            "max_width": null,
            "min_height": null,
            "min_width": null,
            "object_fit": null,
            "object_position": null,
            "order": null,
            "overflow": null,
            "overflow_x": null,
            "overflow_y": null,
            "padding": null,
            "right": null,
            "top": null,
            "visibility": null,
            "width": null
          }
        },
        "4ff3f68b57b54673beb2669162f4d287": {
          "model_module": "@jupyter-widgets/base",
          "model_name": "LayoutModel",
          "state": {
            "_model_module": "@jupyter-widgets/base",
            "_model_module_version": "1.2.0",
            "_model_name": "LayoutModel",
            "_view_count": null,
            "_view_module": "@jupyter-widgets/base",
            "_view_module_version": "1.2.0",
            "_view_name": "LayoutView",
            "align_content": null,
            "align_items": null,
            "align_self": null,
            "border": null,
            "bottom": null,
            "display": null,
            "flex": null,
            "flex_flow": null,
            "grid_area": null,
            "grid_auto_columns": null,
            "grid_auto_flow": null,
            "grid_auto_rows": null,
            "grid_column": null,
            "grid_gap": null,
            "grid_row": null,
            "grid_template_areas": null,
            "grid_template_columns": null,
            "grid_template_rows": null,
            "height": null,
            "justify_content": null,
            "justify_items": null,
            "left": null,
            "margin": null,
            "max_height": null,
            "max_width": null,
            "min_height": null,
            "min_width": null,
            "object_fit": null,
            "object_position": null,
            "order": null,
            "overflow": null,
            "overflow_x": null,
            "overflow_y": null,
            "padding": null,
            "right": null,
            "top": null,
            "visibility": null,
            "width": null
          }
        },
        "519bca877d5e4548b74a992716dcf030": {
          "model_module": "@jupyter-widgets/controls",
          "model_name": "DescriptionStyleModel",
          "state": {
            "_model_module": "@jupyter-widgets/controls",
            "_model_module_version": "1.5.0",
            "_model_name": "DescriptionStyleModel",
            "_view_count": null,
            "_view_module": "@jupyter-widgets/base",
            "_view_module_version": "1.2.0",
            "_view_name": "StyleView",
            "description_width": ""
          }
        },
        "51b06dd9f1c7491da968a637121faf4f": {
          "model_module": "@jupyter-widgets/controls",
          "model_name": "FloatProgressModel",
          "state": {
            "_dom_classes": [],
            "_model_module": "@jupyter-widgets/controls",
            "_model_module_version": "1.5.0",
            "_model_name": "FloatProgressModel",
            "_view_count": null,
            "_view_module": "@jupyter-widgets/controls",
            "_view_module_version": "1.5.0",
            "_view_name": "ProgressView",
            "bar_style": "success",
            "description": "100%",
            "description_tooltip": null,
            "layout": "IPY_MODEL_f34792f2609d46d395203ac6d9f88944",
            "max": 2344,
            "min": 0,
            "orientation": "horizontal",
            "style": "IPY_MODEL_42621367ed3447c19bcc250799307076",
            "value": 2344
          }
        },
        "56598da1815747a7add0c18c01ed33d0": {
          "model_module": "@jupyter-widgets/base",
          "model_name": "LayoutModel",
          "state": {
            "_model_module": "@jupyter-widgets/base",
            "_model_module_version": "1.2.0",
            "_model_name": "LayoutModel",
            "_view_count": null,
            "_view_module": "@jupyter-widgets/base",
            "_view_module_version": "1.2.0",
            "_view_name": "LayoutView",
            "align_content": null,
            "align_items": null,
            "align_self": null,
            "border": null,
            "bottom": null,
            "display": null,
            "flex": null,
            "flex_flow": null,
            "grid_area": null,
            "grid_auto_columns": null,
            "grid_auto_flow": null,
            "grid_auto_rows": null,
            "grid_column": null,
            "grid_gap": null,
            "grid_row": null,
            "grid_template_areas": null,
            "grid_template_columns": null,
            "grid_template_rows": null,
            "height": null,
            "justify_content": null,
            "justify_items": null,
            "left": null,
            "margin": null,
            "max_height": null,
            "max_width": null,
            "min_height": null,
            "min_width": null,
            "object_fit": null,
            "object_position": null,
            "order": null,
            "overflow": null,
            "overflow_x": null,
            "overflow_y": null,
            "padding": null,
            "right": null,
            "top": null,
            "visibility": null,
            "width": null
          }
        },
        "571e89e50a1f43e6a1854c39602d9d78": {
          "model_module": "@jupyter-widgets/base",
          "model_name": "LayoutModel",
          "state": {
            "_model_module": "@jupyter-widgets/base",
            "_model_module_version": "1.2.0",
            "_model_name": "LayoutModel",
            "_view_count": null,
            "_view_module": "@jupyter-widgets/base",
            "_view_module_version": "1.2.0",
            "_view_name": "LayoutView",
            "align_content": null,
            "align_items": null,
            "align_self": null,
            "border": null,
            "bottom": null,
            "display": null,
            "flex": null,
            "flex_flow": null,
            "grid_area": null,
            "grid_auto_columns": null,
            "grid_auto_flow": null,
            "grid_auto_rows": null,
            "grid_column": null,
            "grid_gap": null,
            "grid_row": null,
            "grid_template_areas": null,
            "grid_template_columns": null,
            "grid_template_rows": null,
            "height": null,
            "justify_content": null,
            "justify_items": null,
            "left": null,
            "margin": null,
            "max_height": null,
            "max_width": null,
            "min_height": null,
            "min_width": null,
            "object_fit": null,
            "object_position": null,
            "order": null,
            "overflow": null,
            "overflow_x": null,
            "overflow_y": null,
            "padding": null,
            "right": null,
            "top": null,
            "visibility": null,
            "width": null
          }
        },
        "595b913b39d24c9da997e4e5014e73c9": {
          "model_module": "@jupyter-widgets/base",
          "model_name": "LayoutModel",
          "state": {
            "_model_module": "@jupyter-widgets/base",
            "_model_module_version": "1.2.0",
            "_model_name": "LayoutModel",
            "_view_count": null,
            "_view_module": "@jupyter-widgets/base",
            "_view_module_version": "1.2.0",
            "_view_name": "LayoutView",
            "align_content": null,
            "align_items": null,
            "align_self": null,
            "border": null,
            "bottom": null,
            "display": null,
            "flex": null,
            "flex_flow": null,
            "grid_area": null,
            "grid_auto_columns": null,
            "grid_auto_flow": null,
            "grid_auto_rows": null,
            "grid_column": null,
            "grid_gap": null,
            "grid_row": null,
            "grid_template_areas": null,
            "grid_template_columns": null,
            "grid_template_rows": null,
            "height": null,
            "justify_content": null,
            "justify_items": null,
            "left": null,
            "margin": null,
            "max_height": null,
            "max_width": null,
            "min_height": null,
            "min_width": null,
            "object_fit": null,
            "object_position": null,
            "order": null,
            "overflow": null,
            "overflow_x": null,
            "overflow_y": null,
            "padding": null,
            "right": null,
            "top": null,
            "visibility": null,
            "width": null
          }
        },
        "66460bb7f69b4efca3a3bbb3d4b6f754": {
          "model_module": "@jupyter-widgets/base",
          "model_name": "LayoutModel",
          "state": {
            "_model_module": "@jupyter-widgets/base",
            "_model_module_version": "1.2.0",
            "_model_name": "LayoutModel",
            "_view_count": null,
            "_view_module": "@jupyter-widgets/base",
            "_view_module_version": "1.2.0",
            "_view_name": "LayoutView",
            "align_content": null,
            "align_items": null,
            "align_self": null,
            "border": null,
            "bottom": null,
            "display": null,
            "flex": null,
            "flex_flow": null,
            "grid_area": null,
            "grid_auto_columns": null,
            "grid_auto_flow": null,
            "grid_auto_rows": null,
            "grid_column": null,
            "grid_gap": null,
            "grid_row": null,
            "grid_template_areas": null,
            "grid_template_columns": null,
            "grid_template_rows": null,
            "height": null,
            "justify_content": null,
            "justify_items": null,
            "left": null,
            "margin": null,
            "max_height": null,
            "max_width": null,
            "min_height": null,
            "min_width": null,
            "object_fit": null,
            "object_position": null,
            "order": null,
            "overflow": null,
            "overflow_x": null,
            "overflow_y": null,
            "padding": null,
            "right": null,
            "top": null,
            "visibility": null,
            "width": null
          }
        },
        "6aa89407a6a5469cb4c0e7b3fa6648e4": {
          "model_module": "@jupyter-widgets/controls",
          "model_name": "DescriptionStyleModel",
          "state": {
            "_model_module": "@jupyter-widgets/controls",
            "_model_module_version": "1.5.0",
            "_model_name": "DescriptionStyleModel",
            "_view_count": null,
            "_view_module": "@jupyter-widgets/base",
            "_view_module_version": "1.2.0",
            "_view_name": "StyleView",
            "description_width": ""
          }
        },
        "6cab552532994fa4aa99525640550fa4": {
          "model_module": "@jupyter-widgets/base",
          "model_name": "LayoutModel",
          "state": {
            "_model_module": "@jupyter-widgets/base",
            "_model_module_version": "1.2.0",
            "_model_name": "LayoutModel",
            "_view_count": null,
            "_view_module": "@jupyter-widgets/base",
            "_view_module_version": "1.2.0",
            "_view_name": "LayoutView",
            "align_content": null,
            "align_items": null,
            "align_self": null,
            "border": null,
            "bottom": null,
            "display": null,
            "flex": null,
            "flex_flow": null,
            "grid_area": null,
            "grid_auto_columns": null,
            "grid_auto_flow": null,
            "grid_auto_rows": null,
            "grid_column": null,
            "grid_gap": null,
            "grid_row": null,
            "grid_template_areas": null,
            "grid_template_columns": null,
            "grid_template_rows": null,
            "height": null,
            "justify_content": null,
            "justify_items": null,
            "left": null,
            "margin": null,
            "max_height": null,
            "max_width": null,
            "min_height": null,
            "min_width": null,
            "object_fit": null,
            "object_position": null,
            "order": null,
            "overflow": null,
            "overflow_x": null,
            "overflow_y": null,
            "padding": null,
            "right": null,
            "top": null,
            "visibility": null,
            "width": null
          }
        },
        "6dcdb940c1bb49508451c2166431783c": {
          "model_module": "@jupyter-widgets/controls",
          "model_name": "HBoxModel",
          "state": {
            "_dom_classes": [],
            "_model_module": "@jupyter-widgets/controls",
            "_model_module_version": "1.5.0",
            "_model_name": "HBoxModel",
            "_view_count": null,
            "_view_module": "@jupyter-widgets/controls",
            "_view_module_version": "1.5.0",
            "_view_name": "HBoxView",
            "box_style": "",
            "children": [
              "IPY_MODEL_87ae808cfbe442adbea44e756d7f2510",
              "IPY_MODEL_e9545f1ebc0f4b459e885788d2bb154a"
            ],
            "layout": "IPY_MODEL_56598da1815747a7add0c18c01ed33d0"
          }
        },
        "6de48ff591b24700ad25b6b716138e2d": {
          "model_module": "@jupyter-widgets/controls",
          "model_name": "DescriptionStyleModel",
          "state": {
            "_model_module": "@jupyter-widgets/controls",
            "_model_module_version": "1.5.0",
            "_model_name": "DescriptionStyleModel",
            "_view_count": null,
            "_view_module": "@jupyter-widgets/base",
            "_view_module_version": "1.2.0",
            "_view_name": "StyleView",
            "description_width": ""
          }
        },
        "728726552d2148e4a7a1333b78bc3ae7": {
          "model_module": "@jupyter-widgets/base",
          "model_name": "LayoutModel",
          "state": {
            "_model_module": "@jupyter-widgets/base",
            "_model_module_version": "1.2.0",
            "_model_name": "LayoutModel",
            "_view_count": null,
            "_view_module": "@jupyter-widgets/base",
            "_view_module_version": "1.2.0",
            "_view_name": "LayoutView",
            "align_content": null,
            "align_items": null,
            "align_self": null,
            "border": null,
            "bottom": null,
            "display": null,
            "flex": null,
            "flex_flow": null,
            "grid_area": null,
            "grid_auto_columns": null,
            "grid_auto_flow": null,
            "grid_auto_rows": null,
            "grid_column": null,
            "grid_gap": null,
            "grid_row": null,
            "grid_template_areas": null,
            "grid_template_columns": null,
            "grid_template_rows": null,
            "height": null,
            "justify_content": null,
            "justify_items": null,
            "left": null,
            "margin": null,
            "max_height": null,
            "max_width": null,
            "min_height": null,
            "min_width": null,
            "object_fit": null,
            "object_position": null,
            "order": null,
            "overflow": null,
            "overflow_x": null,
            "overflow_y": null,
            "padding": null,
            "right": null,
            "top": null,
            "visibility": null,
            "width": null
          }
        },
        "765aee5b69e34414b8f0b02dc47c6048": {
          "model_module": "@jupyter-widgets/controls",
          "model_name": "HTMLModel",
          "state": {
            "_dom_classes": [],
            "_model_module": "@jupyter-widgets/controls",
            "_model_module_version": "1.5.0",
            "_model_name": "HTMLModel",
            "_view_count": null,
            "_view_module": "@jupyter-widgets/controls",
            "_view_module_version": "1.5.0",
            "_view_name": "HTMLView",
            "description": "",
            "description_tooltip": null,
            "layout": "IPY_MODEL_6cab552532994fa4aa99525640550fa4",
            "placeholder": "​",
            "style": "IPY_MODEL_f3b9cdcb4dcd44c495b3c37c1d8bdd9b",
            "value": " 782/782 [05:28&lt;00:00,  2.38it/s]"
          }
        },
        "78908dd5f4b040e5a34c5be182de20bd": {
          "model_module": "@jupyter-widgets/base",
          "model_name": "LayoutModel",
          "state": {
            "_model_module": "@jupyter-widgets/base",
            "_model_module_version": "1.2.0",
            "_model_name": "LayoutModel",
            "_view_count": null,
            "_view_module": "@jupyter-widgets/base",
            "_view_module_version": "1.2.0",
            "_view_name": "LayoutView",
            "align_content": null,
            "align_items": null,
            "align_self": null,
            "border": null,
            "bottom": null,
            "display": null,
            "flex": null,
            "flex_flow": null,
            "grid_area": null,
            "grid_auto_columns": null,
            "grid_auto_flow": null,
            "grid_auto_rows": null,
            "grid_column": null,
            "grid_gap": null,
            "grid_row": null,
            "grid_template_areas": null,
            "grid_template_columns": null,
            "grid_template_rows": null,
            "height": null,
            "justify_content": null,
            "justify_items": null,
            "left": null,
            "margin": null,
            "max_height": null,
            "max_width": null,
            "min_height": null,
            "min_width": null,
            "object_fit": null,
            "object_position": null,
            "order": null,
            "overflow": null,
            "overflow_x": null,
            "overflow_y": null,
            "padding": null,
            "right": null,
            "top": null,
            "visibility": null,
            "width": null
          }
        },
        "87ae808cfbe442adbea44e756d7f2510": {
          "model_module": "@jupyter-widgets/controls",
          "model_name": "FloatProgressModel",
          "state": {
            "_dom_classes": [],
            "_model_module": "@jupyter-widgets/controls",
            "_model_module_version": "1.5.0",
            "_model_name": "FloatProgressModel",
            "_view_count": null,
            "_view_module": "@jupyter-widgets/controls",
            "_view_module_version": "1.5.0",
            "_view_name": "ProgressView",
            "bar_style": "",
            "description": " 52%",
            "description_tooltip": null,
            "layout": "IPY_MODEL_595b913b39d24c9da997e4e5014e73c9",
            "max": 2344,
            "min": 0,
            "orientation": "horizontal",
            "style": "IPY_MODEL_de8bd25d04c446cca3775e6d47a7fee2",
            "value": 1215
          }
        },
        "8c33375489b84d4a9e658623d5153fd6": {
          "model_module": "@jupyter-widgets/controls",
          "model_name": "DescriptionStyleModel",
          "state": {
            "_model_module": "@jupyter-widgets/controls",
            "_model_module_version": "1.5.0",
            "_model_name": "DescriptionStyleModel",
            "_view_count": null,
            "_view_module": "@jupyter-widgets/base",
            "_view_module_version": "1.2.0",
            "_view_name": "StyleView",
            "description_width": ""
          }
        },
        "8d428621f1ac4a959f61ef37ae6bd0b3": {
          "model_module": "@jupyter-widgets/controls",
          "model_name": "ProgressStyleModel",
          "state": {
            "_model_module": "@jupyter-widgets/controls",
            "_model_module_version": "1.5.0",
            "_model_name": "ProgressStyleModel",
            "_view_count": null,
            "_view_module": "@jupyter-widgets/base",
            "_view_module_version": "1.2.0",
            "_view_name": "StyleView",
            "bar_color": null,
            "description_width": "initial"
          }
        },
        "a587a90fe7364ab9a984ee08d34f2f33": {
          "model_module": "@jupyter-widgets/controls",
          "model_name": "FloatProgressModel",
          "state": {
            "_dom_classes": [],
            "_model_module": "@jupyter-widgets/controls",
            "_model_module_version": "1.5.0",
            "_model_name": "FloatProgressModel",
            "_view_count": null,
            "_view_module": "@jupyter-widgets/controls",
            "_view_module_version": "1.5.0",
            "_view_name": "ProgressView",
            "bar_style": "success",
            "description": "100%",
            "description_tooltip": null,
            "layout": "IPY_MODEL_28864bba65c941bf914b75701688cb1a",
            "max": 782,
            "min": 0,
            "orientation": "horizontal",
            "style": "IPY_MODEL_f28262603c3c402aa24e3b693e195d55",
            "value": 782
          }
        },
        "aa904181d1a34e01aa1135140df8b5a7": {
          "model_module": "@jupyter-widgets/controls",
          "model_name": "FloatProgressModel",
          "state": {
            "_dom_classes": [],
            "_model_module": "@jupyter-widgets/controls",
            "_model_module_version": "1.5.0",
            "_model_name": "FloatProgressModel",
            "_view_count": null,
            "_view_module": "@jupyter-widgets/controls",
            "_view_module_version": "1.5.0",
            "_view_name": "ProgressView",
            "bar_style": "",
            "description": "  4%",
            "description_tooltip": null,
            "layout": "IPY_MODEL_66460bb7f69b4efca3a3bbb3d4b6f754",
            "max": 782,
            "min": 0,
            "orientation": "horizontal",
            "style": "IPY_MODEL_d9ec152158a34a959eddbec5035295fc",
            "value": 33
          }
        },
        "abc71404571e48c9ad5f156cd07fa946": {
          "model_module": "@jupyter-widgets/base",
          "model_name": "LayoutModel",
          "state": {
            "_model_module": "@jupyter-widgets/base",
            "_model_module_version": "1.2.0",
            "_model_name": "LayoutModel",
            "_view_count": null,
            "_view_module": "@jupyter-widgets/base",
            "_view_module_version": "1.2.0",
            "_view_name": "LayoutView",
            "align_content": null,
            "align_items": null,
            "align_self": null,
            "border": null,
            "bottom": null,
            "display": null,
            "flex": null,
            "flex_flow": null,
            "grid_area": null,
            "grid_auto_columns": null,
            "grid_auto_flow": null,
            "grid_auto_rows": null,
            "grid_column": null,
            "grid_gap": null,
            "grid_row": null,
            "grid_template_areas": null,
            "grid_template_columns": null,
            "grid_template_rows": null,
            "height": null,
            "justify_content": null,
            "justify_items": null,
            "left": null,
            "margin": null,
            "max_height": null,
            "max_width": null,
            "min_height": null,
            "min_width": null,
            "object_fit": null,
            "object_position": null,
            "order": null,
            "overflow": null,
            "overflow_x": null,
            "overflow_y": null,
            "padding": null,
            "right": null,
            "top": null,
            "visibility": null,
            "width": null
          }
        },
        "ac63e14959d240eca7a9c17616c9b51f": {
          "model_module": "@jupyter-widgets/controls",
          "model_name": "HTMLModel",
          "state": {
            "_dom_classes": [],
            "_model_module": "@jupyter-widgets/controls",
            "_model_module_version": "1.5.0",
            "_model_name": "HTMLModel",
            "_view_count": null,
            "_view_module": "@jupyter-widgets/controls",
            "_view_module_version": "1.5.0",
            "_view_name": "HTMLView",
            "description": "",
            "description_tooltip": null,
            "layout": "IPY_MODEL_4ff3f68b57b54673beb2669162f4d287",
            "placeholder": "​",
            "style": "IPY_MODEL_519bca877d5e4548b74a992716dcf030",
            "value": " 33/782 [00:08&lt;03:08,  3.96it/s]"
          }
        },
        "b01b00767ee445eeb211c5d1028c465b": {
          "model_module": "@jupyter-widgets/controls",
          "model_name": "DescriptionStyleModel",
          "state": {
            "_model_module": "@jupyter-widgets/controls",
            "_model_module_version": "1.5.0",
            "_model_name": "DescriptionStyleModel",
            "_view_count": null,
            "_view_module": "@jupyter-widgets/base",
            "_view_module_version": "1.2.0",
            "_view_name": "StyleView",
            "description_width": ""
          }
        },
        "b181afc128e64a0cafac27e590f4ff3b": {
          "model_module": "@jupyter-widgets/controls",
          "model_name": "FloatProgressModel",
          "state": {
            "_dom_classes": [],
            "_model_module": "@jupyter-widgets/controls",
            "_model_module_version": "1.5.0",
            "_model_name": "FloatProgressModel",
            "_view_count": null,
            "_view_module": "@jupyter-widgets/controls",
            "_view_module_version": "1.5.0",
            "_view_name": "ProgressView",
            "bar_style": "success",
            "description": "100%",
            "description_tooltip": null,
            "layout": "IPY_MODEL_4d26fe7583a74e5ba0f3790b76bc9978",
            "max": 782,
            "min": 0,
            "orientation": "horizontal",
            "style": "IPY_MODEL_ef71d8a9b6474f349f5e252262d2cba3",
            "value": 782
          }
        },
        "c27f8ead526f417d9ebbf513245a21a7": {
          "model_module": "@jupyter-widgets/controls",
          "model_name": "HBoxModel",
          "state": {
            "_dom_classes": [],
            "_model_module": "@jupyter-widgets/controls",
            "_model_module_version": "1.5.0",
            "_model_name": "HBoxModel",
            "_view_count": null,
            "_view_module": "@jupyter-widgets/controls",
            "_view_module_version": "1.5.0",
            "_view_name": "HBoxView",
            "box_style": "",
            "children": [
              "IPY_MODEL_b181afc128e64a0cafac27e590f4ff3b",
              "IPY_MODEL_765aee5b69e34414b8f0b02dc47c6048"
            ],
            "layout": "IPY_MODEL_728726552d2148e4a7a1333b78bc3ae7"
          }
        },
        "c2c4e7af641a4b7386047be0efe83ddf": {
          "model_module": "@jupyter-widgets/controls",
          "model_name": "FloatProgressModel",
          "state": {
            "_dom_classes": [],
            "_model_module": "@jupyter-widgets/controls",
            "_model_module_version": "1.5.0",
            "_model_name": "FloatProgressModel",
            "_view_count": null,
            "_view_module": "@jupyter-widgets/controls",
            "_view_module_version": "1.5.0",
            "_view_name": "ProgressView",
            "bar_style": "success",
            "description": "100%",
            "description_tooltip": null,
            "layout": "IPY_MODEL_78908dd5f4b040e5a34c5be182de20bd",
            "max": 2344,
            "min": 0,
            "orientation": "horizontal",
            "style": "IPY_MODEL_8d428621f1ac4a959f61ef37ae6bd0b3",
            "value": 2344
          }
        },
        "cf41737c53d4455889e7d8545f963c08": {
          "model_module": "@jupyter-widgets/base",
          "model_name": "LayoutModel",
          "state": {
            "_model_module": "@jupyter-widgets/base",
            "_model_module_version": "1.2.0",
            "_model_name": "LayoutModel",
            "_view_count": null,
            "_view_module": "@jupyter-widgets/base",
            "_view_module_version": "1.2.0",
            "_view_name": "LayoutView",
            "align_content": null,
            "align_items": null,
            "align_self": null,
            "border": null,
            "bottom": null,
            "display": null,
            "flex": null,
            "flex_flow": null,
            "grid_area": null,
            "grid_auto_columns": null,
            "grid_auto_flow": null,
            "grid_auto_rows": null,
            "grid_column": null,
            "grid_gap": null,
            "grid_row": null,
            "grid_template_areas": null,
            "grid_template_columns": null,
            "grid_template_rows": null,
            "height": null,
            "justify_content": null,
            "justify_items": null,
            "left": null,
            "margin": null,
            "max_height": null,
            "max_width": null,
            "min_height": null,
            "min_width": null,
            "object_fit": null,
            "object_position": null,
            "order": null,
            "overflow": null,
            "overflow_x": null,
            "overflow_y": null,
            "padding": null,
            "right": null,
            "top": null,
            "visibility": null,
            "width": null
          }
        },
        "d9ec152158a34a959eddbec5035295fc": {
          "model_module": "@jupyter-widgets/controls",
          "model_name": "ProgressStyleModel",
          "state": {
            "_model_module": "@jupyter-widgets/controls",
            "_model_module_version": "1.5.0",
            "_model_name": "ProgressStyleModel",
            "_view_count": null,
            "_view_module": "@jupyter-widgets/base",
            "_view_module_version": "1.2.0",
            "_view_name": "StyleView",
            "bar_color": null,
            "description_width": "initial"
          }
        },
        "daf7eab4eec4494d88f492c0b32d64e5": {
          "model_module": "@jupyter-widgets/controls",
          "model_name": "HTMLModel",
          "state": {
            "_dom_classes": [],
            "_model_module": "@jupyter-widgets/controls",
            "_model_module_version": "1.5.0",
            "_model_name": "HTMLModel",
            "_view_count": null,
            "_view_module": "@jupyter-widgets/controls",
            "_view_module_version": "1.5.0",
            "_view_name": "HTMLView",
            "description": "",
            "description_tooltip": null,
            "layout": "IPY_MODEL_111b8510b9284f619ec7bb546786c789",
            "placeholder": "​",
            "style": "IPY_MODEL_8c33375489b84d4a9e658623d5153fd6",
            "value": " 2344/2344 [29:14&lt;00:00,  1.34it/s]"
          }
        },
        "de8bd25d04c446cca3775e6d47a7fee2": {
          "model_module": "@jupyter-widgets/controls",
          "model_name": "ProgressStyleModel",
          "state": {
            "_model_module": "@jupyter-widgets/controls",
            "_model_module_version": "1.5.0",
            "_model_name": "ProgressStyleModel",
            "_view_count": null,
            "_view_module": "@jupyter-widgets/base",
            "_view_module_version": "1.2.0",
            "_view_name": "StyleView",
            "bar_color": null,
            "description_width": "initial"
          }
        },
        "e42618c84b284629b0b0900d37547df2": {
          "model_module": "@jupyter-widgets/controls",
          "model_name": "HBoxModel",
          "state": {
            "_dom_classes": [],
            "_model_module": "@jupyter-widgets/controls",
            "_model_module_version": "1.5.0",
            "_model_name": "HBoxModel",
            "_view_count": null,
            "_view_module": "@jupyter-widgets/controls",
            "_view_module_version": "1.5.0",
            "_view_name": "HBoxView",
            "box_style": "",
            "children": [
              "IPY_MODEL_aa904181d1a34e01aa1135140df8b5a7",
              "IPY_MODEL_ac63e14959d240eca7a9c17616c9b51f"
            ],
            "layout": "IPY_MODEL_3027f8ad64e64a0abaa1aaf4672daff7"
          }
        },
        "e9545f1ebc0f4b459e885788d2bb154a": {
          "model_module": "@jupyter-widgets/controls",
          "model_name": "HTMLModel",
          "state": {
            "_dom_classes": [],
            "_model_module": "@jupyter-widgets/controls",
            "_model_module_version": "1.5.0",
            "_model_name": "HTMLModel",
            "_view_count": null,
            "_view_module": "@jupyter-widgets/controls",
            "_view_module_version": "1.5.0",
            "_view_name": "HTMLView",
            "description": "",
            "description_tooltip": null,
            "layout": "IPY_MODEL_24c8cd627f754cc1bef0950596417573",
            "placeholder": "​",
            "style": "IPY_MODEL_b01b00767ee445eeb211c5d1028c465b",
            "value": " 1215/2344 [15:11&lt;14:09,  1.33it/s]"
          }
        },
        "ef71d8a9b6474f349f5e252262d2cba3": {
          "model_module": "@jupyter-widgets/controls",
          "model_name": "ProgressStyleModel",
          "state": {
            "_model_module": "@jupyter-widgets/controls",
            "_model_module_version": "1.5.0",
            "_model_name": "ProgressStyleModel",
            "_view_count": null,
            "_view_module": "@jupyter-widgets/base",
            "_view_module_version": "1.2.0",
            "_view_name": "StyleView",
            "bar_color": null,
            "description_width": "initial"
          }
        },
        "f28262603c3c402aa24e3b693e195d55": {
          "model_module": "@jupyter-widgets/controls",
          "model_name": "ProgressStyleModel",
          "state": {
            "_model_module": "@jupyter-widgets/controls",
            "_model_module_version": "1.5.0",
            "_model_name": "ProgressStyleModel",
            "_view_count": null,
            "_view_module": "@jupyter-widgets/base",
            "_view_module_version": "1.2.0",
            "_view_name": "StyleView",
            "bar_color": null,
            "description_width": "initial"
          }
        },
        "f34792f2609d46d395203ac6d9f88944": {
          "model_module": "@jupyter-widgets/base",
          "model_name": "LayoutModel",
          "state": {
            "_model_module": "@jupyter-widgets/base",
            "_model_module_version": "1.2.0",
            "_model_name": "LayoutModel",
            "_view_count": null,
            "_view_module": "@jupyter-widgets/base",
            "_view_module_version": "1.2.0",
            "_view_name": "LayoutView",
            "align_content": null,
            "align_items": null,
            "align_self": null,
            "border": null,
            "bottom": null,
            "display": null,
            "flex": null,
            "flex_flow": null,
            "grid_area": null,
            "grid_auto_columns": null,
            "grid_auto_flow": null,
            "grid_auto_rows": null,
            "grid_column": null,
            "grid_gap": null,
            "grid_row": null,
            "grid_template_areas": null,
            "grid_template_columns": null,
            "grid_template_rows": null,
            "height": null,
            "justify_content": null,
            "justify_items": null,
            "left": null,
            "margin": null,
            "max_height": null,
            "max_width": null,
            "min_height": null,
            "min_width": null,
            "object_fit": null,
            "object_position": null,
            "order": null,
            "overflow": null,
            "overflow_x": null,
            "overflow_y": null,
            "padding": null,
            "right": null,
            "top": null,
            "visibility": null,
            "width": null
          }
        },
        "f3b9cdcb4dcd44c495b3c37c1d8bdd9b": {
          "model_module": "@jupyter-widgets/controls",
          "model_name": "DescriptionStyleModel",
          "state": {
            "_model_module": "@jupyter-widgets/controls",
            "_model_module_version": "1.5.0",
            "_model_name": "DescriptionStyleModel",
            "_view_count": null,
            "_view_module": "@jupyter-widgets/base",
            "_view_module_version": "1.2.0",
            "_view_name": "StyleView",
            "description_width": ""
          }
        },
        "f53c78e1da2645d5986284d866fb7688": {
          "model_module": "@jupyter-widgets/controls",
          "model_name": "HTMLModel",
          "state": {
            "_dom_classes": [],
            "_model_module": "@jupyter-widgets/controls",
            "_model_module_version": "1.5.0",
            "_model_name": "HTMLModel",
            "_view_count": null,
            "_view_module": "@jupyter-widgets/controls",
            "_view_module_version": "1.5.0",
            "_view_name": "HTMLView",
            "description": "",
            "description_tooltip": null,
            "layout": "IPY_MODEL_494a3af9635243f7bd6e3ef7f83cc4dc",
            "placeholder": "​",
            "style": "IPY_MODEL_4784bfcbeac94053a5d66690ae9b526d",
            "value": " 2344/2344 [29:20&lt;00:00,  1.33it/s]"
          }
        },
        "f53ed0ea78a5441a9efe684474c867a0": {
          "model_module": "@jupyter-widgets/base",
          "model_name": "LayoutModel",
          "state": {
            "_model_module": "@jupyter-widgets/base",
            "_model_module_version": "1.2.0",
            "_model_name": "LayoutModel",
            "_view_count": null,
            "_view_module": "@jupyter-widgets/base",
            "_view_module_version": "1.2.0",
            "_view_name": "LayoutView",
            "align_content": null,
            "align_items": null,
            "align_self": null,
            "border": null,
            "bottom": null,
            "display": null,
            "flex": null,
            "flex_flow": null,
            "grid_area": null,
            "grid_auto_columns": null,
            "grid_auto_flow": null,
            "grid_auto_rows": null,
            "grid_column": null,
            "grid_gap": null,
            "grid_row": null,
            "grid_template_areas": null,
            "grid_template_columns": null,
            "grid_template_rows": null,
            "height": null,
            "justify_content": null,
            "justify_items": null,
            "left": null,
            "margin": null,
            "max_height": null,
            "max_width": null,
            "min_height": null,
            "min_width": null,
            "object_fit": null,
            "object_position": null,
            "order": null,
            "overflow": null,
            "overflow_x": null,
            "overflow_y": null,
            "padding": null,
            "right": null,
            "top": null,
            "visibility": null,
            "width": null
          }
        },
        "f6bf5fb12617460c8defc68228dea2b0": {
          "model_module": "@jupyter-widgets/controls",
          "model_name": "HBoxModel",
          "state": {
            "_dom_classes": [],
            "_model_module": "@jupyter-widgets/controls",
            "_model_module_version": "1.5.0",
            "_model_name": "HBoxModel",
            "_view_count": null,
            "_view_module": "@jupyter-widgets/controls",
            "_view_module_version": "1.5.0",
            "_view_name": "HBoxView",
            "box_style": "",
            "children": [
              "IPY_MODEL_c2c4e7af641a4b7386047be0efe83ddf",
              "IPY_MODEL_0ae31d6bf3ef42b1b2e04b3a0e398bc7"
            ],
            "layout": "IPY_MODEL_571e89e50a1f43e6a1854c39602d9d78"
          }
        },
        "f6e63c8a254d43eca85076ac71c36c46": {
          "model_module": "@jupyter-widgets/base",
          "model_name": "LayoutModel",
          "state": {
            "_model_module": "@jupyter-widgets/base",
            "_model_module_version": "1.2.0",
            "_model_name": "LayoutModel",
            "_view_count": null,
            "_view_module": "@jupyter-widgets/base",
            "_view_module_version": "1.2.0",
            "_view_name": "LayoutView",
            "align_content": null,
            "align_items": null,
            "align_self": null,
            "border": null,
            "bottom": null,
            "display": null,
            "flex": null,
            "flex_flow": null,
            "grid_area": null,
            "grid_auto_columns": null,
            "grid_auto_flow": null,
            "grid_auto_rows": null,
            "grid_column": null,
            "grid_gap": null,
            "grid_row": null,
            "grid_template_areas": null,
            "grid_template_columns": null,
            "grid_template_rows": null,
            "height": null,
            "justify_content": null,
            "justify_items": null,
            "left": null,
            "margin": null,
            "max_height": null,
            "max_width": null,
            "min_height": null,
            "min_width": null,
            "object_fit": null,
            "object_position": null,
            "order": null,
            "overflow": null,
            "overflow_x": null,
            "overflow_y": null,
            "padding": null,
            "right": null,
            "top": null,
            "visibility": null,
            "width": null
          }
        },
        "fe24464c2377420ba2c51c5c7d368d53": {
          "model_module": "@jupyter-widgets/base",
          "model_name": "LayoutModel",
          "state": {
            "_model_module": "@jupyter-widgets/base",
            "_model_module_version": "1.2.0",
            "_model_name": "LayoutModel",
            "_view_count": null,
            "_view_module": "@jupyter-widgets/base",
            "_view_module_version": "1.2.0",
            "_view_name": "LayoutView",
            "align_content": null,
            "align_items": null,
            "align_self": null,
            "border": null,
            "bottom": null,
            "display": null,
            "flex": null,
            "flex_flow": null,
            "grid_area": null,
            "grid_auto_columns": null,
            "grid_auto_flow": null,
            "grid_auto_rows": null,
            "grid_column": null,
            "grid_gap": null,
            "grid_row": null,
            "grid_template_areas": null,
            "grid_template_columns": null,
            "grid_template_rows": null,
            "height": null,
            "justify_content": null,
            "justify_items": null,
            "left": null,
            "margin": null,
            "max_height": null,
            "max_width": null,
            "min_height": null,
            "min_width": null,
            "object_fit": null,
            "object_position": null,
            "order": null,
            "overflow": null,
            "overflow_x": null,
            "overflow_y": null,
            "padding": null,
            "right": null,
            "top": null,
            "visibility": null,
            "width": null
          }
        }
      }
    }
  },
  "nbformat": 4,
  "nbformat_minor": 0
}
